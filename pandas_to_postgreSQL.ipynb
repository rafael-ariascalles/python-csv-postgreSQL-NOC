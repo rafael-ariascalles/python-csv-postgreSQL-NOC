{
 "metadata": {
  "language_info": {
   "codemirror_mode": {
    "name": "ipython",
    "version": 3
   },
   "file_extension": ".py",
   "mimetype": "text/x-python",
   "name": "python",
   "nbconvert_exporter": "python",
   "pygments_lexer": "ipython3",
   "version": "3.6.9-final"
  },
  "orig_nbformat": 2,
  "kernelspec": {
   "name": "Python 3.6.9 64-bit",
   "display_name": "Python 3.6.9 64-bit",
   "metadata": {
    "interpreter": {
     "hash": "4cd7ab41f5fca4b9b44701077e38c5ffd31fe66a6cab21e0214b68d958d0e462"
    }
   }
  }
 },
 "nbformat": 4,
 "nbformat_minor": 2,
 "cells": [
  {
   "cell_type": "code",
   "execution_count": 1,
   "metadata": {},
   "outputs": [],
   "source": [
    "import pandas as pd"
   ]
  },
  {
   "source": [
    "### Step 1: Information about the NOC version 1.3 update Dec2019\n",
    "in this step we will uste the information from the official website and the NOC we will use 2 files for this process. in this steps is mandatory to have internet connection in order to download the oficial documents"
   ],
   "cell_type": "markdown",
   "metadata": {}
  },
  {
   "cell_type": "code",
   "execution_count": 3,
   "metadata": {},
   "outputs": [],
   "source": [
    "noc_structure = pd.read_csv(\"https://www.statcan.gc.ca/eng/statistical-programs/document/noc-cnp-2016-structure-v4-eng.csv\")"
   ]
  },
  {
   "cell_type": "code",
   "execution_count": 14,
   "metadata": {},
   "outputs": [
    {
     "output_type": "execute_result",
     "data": {
      "text/plain": "(690, 5)"
     },
     "metadata": {},
     "execution_count": 14
    }
   ],
   "source": [
    "noc_structure.shape"
   ]
  },
  {
   "cell_type": "code",
   "execution_count": 15,
   "metadata": {},
   "outputs": [
    {
     "output_type": "execute_result",
     "data": {
      "text/plain": "     Level Hierarchical structure  Code  \\\n185      3            Minor group   221   \n183      4             Unit group  2175   \n232      4             Unit group  3111   \n366      4             Unit group  5244   \n514      4             Unit group  7322   \n178      3            Minor group   217   \n581      3            Minor group   841   \n314      4             Unit group  4217   \n518      4             Unit group  7333   \n476      4             Unit group  7245   \n\n                                           Class title  \\\n185         Technical occupations in physical sciences   \n183                       Web designers and developers   \n232                              Specialist physicians   \n366                         Artisans and craftspersons   \n514                       Motor vehicle body repairers   \n178     Computer and information systems professionals   \n581  Mine service workers and operators in oil and ...   \n314                        Other religious occupations   \n518                               Electrical mechanics   \n476          Telecommunications line and cable workers   \n\n                                      Class definition  \n185  This minor group includes chemical, geological...  \n183  Web designers and developers research, design,...  \n232  Specialists in clinical medicine diagnose and ...  \n366  Artisans and craftspersons use manual and arti...  \n514  Motor vehicle body repairers repair and restor...  \n178  This minor group includes professionals workin...  \n581  This minor group includes underground mine ser...  \n314  Workers in other religious occupations include...  \n518  Electrical mechanics maintain, test, rebuild a...  \n476  Telecommunications line and cable workers inst...  ",
      "text/html": "<div>\n<style scoped>\n    .dataframe tbody tr th:only-of-type {\n        vertical-align: middle;\n    }\n\n    .dataframe tbody tr th {\n        vertical-align: top;\n    }\n\n    .dataframe thead th {\n        text-align: right;\n    }\n</style>\n<table border=\"1\" class=\"dataframe\">\n  <thead>\n    <tr style=\"text-align: right;\">\n      <th></th>\n      <th>Level</th>\n      <th>Hierarchical structure</th>\n      <th>Code</th>\n      <th>Class title</th>\n      <th>Class definition</th>\n    </tr>\n  </thead>\n  <tbody>\n    <tr>\n      <th>185</th>\n      <td>3</td>\n      <td>Minor group</td>\n      <td>221</td>\n      <td>Technical occupations in physical sciences</td>\n      <td>This minor group includes chemical, geological...</td>\n    </tr>\n    <tr>\n      <th>183</th>\n      <td>4</td>\n      <td>Unit group</td>\n      <td>2175</td>\n      <td>Web designers and developers</td>\n      <td>Web designers and developers research, design,...</td>\n    </tr>\n    <tr>\n      <th>232</th>\n      <td>4</td>\n      <td>Unit group</td>\n      <td>3111</td>\n      <td>Specialist physicians</td>\n      <td>Specialists in clinical medicine diagnose and ...</td>\n    </tr>\n    <tr>\n      <th>366</th>\n      <td>4</td>\n      <td>Unit group</td>\n      <td>5244</td>\n      <td>Artisans and craftspersons</td>\n      <td>Artisans and craftspersons use manual and arti...</td>\n    </tr>\n    <tr>\n      <th>514</th>\n      <td>4</td>\n      <td>Unit group</td>\n      <td>7322</td>\n      <td>Motor vehicle body repairers</td>\n      <td>Motor vehicle body repairers repair and restor...</td>\n    </tr>\n    <tr>\n      <th>178</th>\n      <td>3</td>\n      <td>Minor group</td>\n      <td>217</td>\n      <td>Computer and information systems professionals</td>\n      <td>This minor group includes professionals workin...</td>\n    </tr>\n    <tr>\n      <th>581</th>\n      <td>3</td>\n      <td>Minor group</td>\n      <td>841</td>\n      <td>Mine service workers and operators in oil and ...</td>\n      <td>This minor group includes underground mine ser...</td>\n    </tr>\n    <tr>\n      <th>314</th>\n      <td>4</td>\n      <td>Unit group</td>\n      <td>4217</td>\n      <td>Other religious occupations</td>\n      <td>Workers in other religious occupations include...</td>\n    </tr>\n    <tr>\n      <th>518</th>\n      <td>4</td>\n      <td>Unit group</td>\n      <td>7333</td>\n      <td>Electrical mechanics</td>\n      <td>Electrical mechanics maintain, test, rebuild a...</td>\n    </tr>\n    <tr>\n      <th>476</th>\n      <td>4</td>\n      <td>Unit group</td>\n      <td>7245</td>\n      <td>Telecommunications line and cable workers</td>\n      <td>Telecommunications line and cable workers inst...</td>\n    </tr>\n  </tbody>\n</table>\n</div>"
     },
     "metadata": {},
     "execution_count": 15
    }
   ],
   "source": [
    "noc_structure.sample(10)"
   ]
  },
  {
   "cell_type": "code",
   "execution_count": 4,
   "metadata": {},
   "outputs": [],
   "source": [
    "noc_elements = pd.read_csv(\"https://www.statcan.gc.ca/eng/statistical-programs/document/noc-cnp-2016-element-v4-eng.csv\")"
   ]
  },
  {
   "cell_type": "code",
   "execution_count": 13,
   "metadata": {},
   "outputs": [
    {
     "output_type": "execute_result",
     "data": {
      "text/plain": "(43126, 9)"
     },
     "metadata": {},
     "execution_count": 13
    }
   ],
   "source": [
    "noc_elements.shape"
   ]
  },
  {
   "cell_type": "code",
   "execution_count": 16,
   "metadata": {},
   "outputs": [
    {
     "output_type": "execute_result",
     "data": {
      "text/plain": "       Level  Code                                        Class title  \\\n42216      4  9614       Labourers in wood, pulp and paper processing   \n30916      4  8241                        Logging machinery operators   \n20775      4  6316                         Other services supervisors   \n1756       4   412  Government managers - economic analysis, polic...   \n35841      4  9422              Plastics processing machine operators   \n39898      4  9525  Assemblers, fabricators and inspectors, indust...   \n13197      4  3215                    Medical radiation technologists   \n21981      4  6523                  Airline ticket and service agents   \n37729      4  9445                    Fabric, fur and leather cutters   \n9129       4  2173                   Software engineers and designers   \n15390      4  4154               Professional occupations in religion   \n36483      4  9434            Other wood processing machine operators   \n5970       4  1411                     General office support workers   \n149        4    12           Senior government managers and officials   \n16349      4  4169  Other professional occupations in social scien...   \n31089      4  8252  Agricultural service contractors, farm supervi...   \n31434      4  8412  Oil and gas well drilling and related workers ...   \n21513      4  6411  Sales and account representatives - wholesale ...   \n42919      4  9619  Other labourers in processing, manufacturing a...   \n\n      Element Type Label English  \\\n42216               All examples   \n30916    Employment requirements   \n20775               Exclusion(s)   \n1756                Exclusion(s)   \n35841    Employment requirements   \n39898    Illustrative example(s)   \n13197               All examples   \n21981               All examples   \n37729    Employment requirements   \n9129                All examples   \n15390    Illustrative example(s)   \n36483               All examples   \n5970                 Main duties   \n149                  Main duties   \n16349               All examples   \n31089                Main duties   \n31434               All examples   \n21513    Employment requirements   \n42919               All examples   \n\n                             Element Description English  Unnamed: 5  \\\n42216                                   log deck tender          NaN   \n30916  Experience requirements vary depending on the ...         NaN   \n20775  Managers in customer and personal services, n....         NaN   \n1756   Labour policy analysts  (See 4164 Social polic...         NaN   \n35841  Completion of a statistical process control (S...         NaN   \n39898  switchgear and control panel assembler - indus...         NaN   \n13197                       nuclear medicine technician          NaN   \n21981           client service representative - airline          NaN   \n37729  Some secondary school education is usually req...         NaN   \n9129                           software design engineer          NaN   \n15390                                              imam          NaN   \n36483              drum barker tender - wood processing          NaN   \n5970   Process incoming and outgoing mail, manually o...         NaN   \n149    Establish objectives for the organization in a...         NaN   \n16349                       archaeological field worker          NaN   \n31089               May supervise general farm workers.          NaN   \n31434                pumpman/woman - oil field services          NaN   \n21513  Experience in sales or in an occupation relate...         NaN   \n42919         general labourer - light-fixture assembly          NaN   \n\n       Unnamed: 6  Unnamed: 7  Unnamed: 8  \n42216         NaN         NaN         NaN  \n30916         NaN         NaN         NaN  \n20775         NaN         NaN         NaN  \n1756          NaN         NaN         NaN  \n35841         NaN         NaN         NaN  \n39898         NaN         NaN         NaN  \n13197         NaN         NaN         NaN  \n21981         NaN         NaN         NaN  \n37729         NaN         NaN         NaN  \n9129          NaN         NaN         NaN  \n15390         NaN         NaN         NaN  \n36483         NaN         NaN         NaN  \n5970          NaN         NaN         NaN  \n149           NaN         NaN         NaN  \n16349         NaN         NaN         NaN  \n31089         NaN         NaN         NaN  \n31434         NaN         NaN         NaN  \n21513         NaN         NaN         NaN  \n42919         NaN         NaN         NaN  ",
      "text/html": "<div>\n<style scoped>\n    .dataframe tbody tr th:only-of-type {\n        vertical-align: middle;\n    }\n\n    .dataframe tbody tr th {\n        vertical-align: top;\n    }\n\n    .dataframe thead th {\n        text-align: right;\n    }\n</style>\n<table border=\"1\" class=\"dataframe\">\n  <thead>\n    <tr style=\"text-align: right;\">\n      <th></th>\n      <th>Level</th>\n      <th>Code</th>\n      <th>Class title</th>\n      <th>Element Type Label English</th>\n      <th>Element Description English</th>\n      <th>Unnamed: 5</th>\n      <th>Unnamed: 6</th>\n      <th>Unnamed: 7</th>\n      <th>Unnamed: 8</th>\n    </tr>\n  </thead>\n  <tbody>\n    <tr>\n      <th>42216</th>\n      <td>4</td>\n      <td>9614</td>\n      <td>Labourers in wood, pulp and paper processing</td>\n      <td>All examples</td>\n      <td>log deck tender</td>\n      <td>NaN</td>\n      <td>NaN</td>\n      <td>NaN</td>\n      <td>NaN</td>\n    </tr>\n    <tr>\n      <th>30916</th>\n      <td>4</td>\n      <td>8241</td>\n      <td>Logging machinery operators</td>\n      <td>Employment requirements</td>\n      <td>Experience requirements vary depending on the ...</td>\n      <td>NaN</td>\n      <td>NaN</td>\n      <td>NaN</td>\n      <td>NaN</td>\n    </tr>\n    <tr>\n      <th>20775</th>\n      <td>4</td>\n      <td>6316</td>\n      <td>Other services supervisors</td>\n      <td>Exclusion(s)</td>\n      <td>Managers in customer and personal services, n....</td>\n      <td>NaN</td>\n      <td>NaN</td>\n      <td>NaN</td>\n      <td>NaN</td>\n    </tr>\n    <tr>\n      <th>1756</th>\n      <td>4</td>\n      <td>412</td>\n      <td>Government managers - economic analysis, polic...</td>\n      <td>Exclusion(s)</td>\n      <td>Labour policy analysts  (See 4164 Social polic...</td>\n      <td>NaN</td>\n      <td>NaN</td>\n      <td>NaN</td>\n      <td>NaN</td>\n    </tr>\n    <tr>\n      <th>35841</th>\n      <td>4</td>\n      <td>9422</td>\n      <td>Plastics processing machine operators</td>\n      <td>Employment requirements</td>\n      <td>Completion of a statistical process control (S...</td>\n      <td>NaN</td>\n      <td>NaN</td>\n      <td>NaN</td>\n      <td>NaN</td>\n    </tr>\n    <tr>\n      <th>39898</th>\n      <td>4</td>\n      <td>9525</td>\n      <td>Assemblers, fabricators and inspectors, indust...</td>\n      <td>Illustrative example(s)</td>\n      <td>switchgear and control panel assembler - indus...</td>\n      <td>NaN</td>\n      <td>NaN</td>\n      <td>NaN</td>\n      <td>NaN</td>\n    </tr>\n    <tr>\n      <th>13197</th>\n      <td>4</td>\n      <td>3215</td>\n      <td>Medical radiation technologists</td>\n      <td>All examples</td>\n      <td>nuclear medicine technician</td>\n      <td>NaN</td>\n      <td>NaN</td>\n      <td>NaN</td>\n      <td>NaN</td>\n    </tr>\n    <tr>\n      <th>21981</th>\n      <td>4</td>\n      <td>6523</td>\n      <td>Airline ticket and service agents</td>\n      <td>All examples</td>\n      <td>client service representative - airline</td>\n      <td>NaN</td>\n      <td>NaN</td>\n      <td>NaN</td>\n      <td>NaN</td>\n    </tr>\n    <tr>\n      <th>37729</th>\n      <td>4</td>\n      <td>9445</td>\n      <td>Fabric, fur and leather cutters</td>\n      <td>Employment requirements</td>\n      <td>Some secondary school education is usually req...</td>\n      <td>NaN</td>\n      <td>NaN</td>\n      <td>NaN</td>\n      <td>NaN</td>\n    </tr>\n    <tr>\n      <th>9129</th>\n      <td>4</td>\n      <td>2173</td>\n      <td>Software engineers and designers</td>\n      <td>All examples</td>\n      <td>software design engineer</td>\n      <td>NaN</td>\n      <td>NaN</td>\n      <td>NaN</td>\n      <td>NaN</td>\n    </tr>\n    <tr>\n      <th>15390</th>\n      <td>4</td>\n      <td>4154</td>\n      <td>Professional occupations in religion</td>\n      <td>Illustrative example(s)</td>\n      <td>imam</td>\n      <td>NaN</td>\n      <td>NaN</td>\n      <td>NaN</td>\n      <td>NaN</td>\n    </tr>\n    <tr>\n      <th>36483</th>\n      <td>4</td>\n      <td>9434</td>\n      <td>Other wood processing machine operators</td>\n      <td>All examples</td>\n      <td>drum barker tender - wood processing</td>\n      <td>NaN</td>\n      <td>NaN</td>\n      <td>NaN</td>\n      <td>NaN</td>\n    </tr>\n    <tr>\n      <th>5970</th>\n      <td>4</td>\n      <td>1411</td>\n      <td>General office support workers</td>\n      <td>Main duties</td>\n      <td>Process incoming and outgoing mail, manually o...</td>\n      <td>NaN</td>\n      <td>NaN</td>\n      <td>NaN</td>\n      <td>NaN</td>\n    </tr>\n    <tr>\n      <th>149</th>\n      <td>4</td>\n      <td>12</td>\n      <td>Senior government managers and officials</td>\n      <td>Main duties</td>\n      <td>Establish objectives for the organization in a...</td>\n      <td>NaN</td>\n      <td>NaN</td>\n      <td>NaN</td>\n      <td>NaN</td>\n    </tr>\n    <tr>\n      <th>16349</th>\n      <td>4</td>\n      <td>4169</td>\n      <td>Other professional occupations in social scien...</td>\n      <td>All examples</td>\n      <td>archaeological field worker</td>\n      <td>NaN</td>\n      <td>NaN</td>\n      <td>NaN</td>\n      <td>NaN</td>\n    </tr>\n    <tr>\n      <th>31089</th>\n      <td>4</td>\n      <td>8252</td>\n      <td>Agricultural service contractors, farm supervi...</td>\n      <td>Main duties</td>\n      <td>May supervise general farm workers.</td>\n      <td>NaN</td>\n      <td>NaN</td>\n      <td>NaN</td>\n      <td>NaN</td>\n    </tr>\n    <tr>\n      <th>31434</th>\n      <td>4</td>\n      <td>8412</td>\n      <td>Oil and gas well drilling and related workers ...</td>\n      <td>All examples</td>\n      <td>pumpman/woman - oil field services</td>\n      <td>NaN</td>\n      <td>NaN</td>\n      <td>NaN</td>\n      <td>NaN</td>\n    </tr>\n    <tr>\n      <th>21513</th>\n      <td>4</td>\n      <td>6411</td>\n      <td>Sales and account representatives - wholesale ...</td>\n      <td>Employment requirements</td>\n      <td>Experience in sales or in an occupation relate...</td>\n      <td>NaN</td>\n      <td>NaN</td>\n      <td>NaN</td>\n      <td>NaN</td>\n    </tr>\n    <tr>\n      <th>42919</th>\n      <td>4</td>\n      <td>9619</td>\n      <td>Other labourers in processing, manufacturing a...</td>\n      <td>All examples</td>\n      <td>general labourer - light-fixture assembly</td>\n      <td>NaN</td>\n      <td>NaN</td>\n      <td>NaN</td>\n      <td>NaN</td>\n    </tr>\n  </tbody>\n</table>\n</div>"
     },
     "metadata": {},
     "execution_count": 16
    }
   ],
   "source": [
    "noc_elements.sample(19)"
   ]
  },
  {
   "source": [
    "the elements csv file has 9 columns and 43,126 rows and the Stucture file has 5 columns and 690 rows. from the sample exploration, the elements table contains null columns that will be remove before insertion to postgrest\n"
   ],
   "cell_type": "markdown",
   "metadata": {}
  },
  {
   "cell_type": "code",
   "execution_count": 18,
   "metadata": {},
   "outputs": [],
   "source": [
    "noc_elements = noc_elements.dropna(1)"
   ]
  },
  {
   "cell_type": "code",
   "execution_count": 19,
   "metadata": {},
   "outputs": [
    {
     "output_type": "execute_result",
     "data": {
      "text/plain": "(43126, 5)"
     },
     "metadata": {},
     "execution_count": 19
    }
   ],
   "source": [
    "noc_elements.shape"
   ]
  },
  {
   "cell_type": "code",
   "execution_count": null,
   "metadata": {},
   "outputs": [],
   "source": []
  }
 ]
}