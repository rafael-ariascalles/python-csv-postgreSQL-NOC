{
 "metadata": {
  "language_info": {
   "codemirror_mode": {
    "name": "ipython",
    "version": 3
   },
   "file_extension": ".py",
   "mimetype": "text/x-python",
   "name": "python",
   "nbconvert_exporter": "python",
   "pygments_lexer": "ipython3",
   "version": "3.6.9-final"
  },
  "orig_nbformat": 2,
  "kernelspec": {
   "name": "Python 3.6.9 64-bit",
   "display_name": "Python 3.6.9 64-bit",
   "metadata": {
    "interpreter": {
     "hash": "4cd7ab41f5fca4b9b44701077e38c5ffd31fe66a6cab21e0214b68d958d0e462"
    }
   }
  }
 },
 "nbformat": 4,
 "nbformat_minor": 2,
 "cells": [
  {
   "cell_type": "code",
   "execution_count": 1,
   "metadata": {},
   "outputs": [],
   "source": [
    "import pandas as pd\n",
    "import numpy as np"
   ]
  },
  {
   "source": [
    "### Step 1: Information about the NOC version 1.3 update Dec2019\n",
    "in this step we will uste the information from the official website and the NOC we will use 2 files for this process. in this steps is mandatory to have internet connection in order to download the oficial documents"
   ],
   "cell_type": "markdown",
   "metadata": {}
  },
  {
   "cell_type": "code",
   "execution_count": 2,
   "metadata": {},
   "outputs": [],
   "source": [
    "noc_structure = pd.read_csv(\"https://www.statcan.gc.ca/eng/statistical-programs/document/noc-cnp-2016-structure-v4-eng.csv\")"
   ]
  },
  {
   "cell_type": "code",
   "execution_count": 3,
   "metadata": {},
   "outputs": [
    {
     "output_type": "execute_result",
     "data": {
      "text/plain": "(690, 5)"
     },
     "metadata": {},
     "execution_count": 3
    }
   ],
   "source": [
    "noc_structure.shape"
   ]
  },
  {
   "cell_type": "code",
   "execution_count": 4,
   "metadata": {},
   "outputs": [
    {
     "output_type": "execute_result",
     "data": {
      "text/plain": "     Level Hierarchical structure  Code  \\\n14       4             Unit group  0114   \n678      4             Unit group  9537   \n285      4             Unit group  4033   \n582      4             Unit group  8411   \n684      4             Unit group  9614   \n270      2            Major group    34   \n637      4             Unit group  9423   \n306      4             Unit group  4169   \n674      4             Unit group  9533   \n31       4             Unit group  0412   \n\n                                           Class title  \\\n14              Other administrative services managers   \n678  Other products assemblers, finishers and inspe...   \n285                            Educational counsellors   \n582       Underground mine service and support workers   \n684       Labourers in wood, pulp and paper processing   \n270  Assisting occupations in support of health ser...   \n637  Rubber processing machine operators and relate...   \n306  Other professional occupations in social scien...   \n674      Other wood products assemblers and inspectors   \n31   Government managers - economic analysis, polic...   \n\n                                      Class definition  \n14   Other administrative services managers plan, o...  \n678  Other products assemblers, finishers and inspe...  \n285  Educational counsellors advise current and pro...  \n582  Underground mine service and support workers p...  \n684  Labourers in wood, pulp and paper processing c...  \n270  This major group comprises occupations in heal...  \n637  Rubber processing machine operators and relate...  \n306  Other professional occupations in social scien...  \n674  Other wood products assemblers assemble a vari...  \n31   Government managers in economic analysis, poli...  ",
      "text/html": "<div>\n<style scoped>\n    .dataframe tbody tr th:only-of-type {\n        vertical-align: middle;\n    }\n\n    .dataframe tbody tr th {\n        vertical-align: top;\n    }\n\n    .dataframe thead th {\n        text-align: right;\n    }\n</style>\n<table border=\"1\" class=\"dataframe\">\n  <thead>\n    <tr style=\"text-align: right;\">\n      <th></th>\n      <th>Level</th>\n      <th>Hierarchical structure</th>\n      <th>Code</th>\n      <th>Class title</th>\n      <th>Class definition</th>\n    </tr>\n  </thead>\n  <tbody>\n    <tr>\n      <th>14</th>\n      <td>4</td>\n      <td>Unit group</td>\n      <td>0114</td>\n      <td>Other administrative services managers</td>\n      <td>Other administrative services managers plan, o...</td>\n    </tr>\n    <tr>\n      <th>678</th>\n      <td>4</td>\n      <td>Unit group</td>\n      <td>9537</td>\n      <td>Other products assemblers, finishers and inspe...</td>\n      <td>Other products assemblers, finishers and inspe...</td>\n    </tr>\n    <tr>\n      <th>285</th>\n      <td>4</td>\n      <td>Unit group</td>\n      <td>4033</td>\n      <td>Educational counsellors</td>\n      <td>Educational counsellors advise current and pro...</td>\n    </tr>\n    <tr>\n      <th>582</th>\n      <td>4</td>\n      <td>Unit group</td>\n      <td>8411</td>\n      <td>Underground mine service and support workers</td>\n      <td>Underground mine service and support workers p...</td>\n    </tr>\n    <tr>\n      <th>684</th>\n      <td>4</td>\n      <td>Unit group</td>\n      <td>9614</td>\n      <td>Labourers in wood, pulp and paper processing</td>\n      <td>Labourers in wood, pulp and paper processing c...</td>\n    </tr>\n    <tr>\n      <th>270</th>\n      <td>2</td>\n      <td>Major group</td>\n      <td>34</td>\n      <td>Assisting occupations in support of health ser...</td>\n      <td>This major group comprises occupations in heal...</td>\n    </tr>\n    <tr>\n      <th>637</th>\n      <td>4</td>\n      <td>Unit group</td>\n      <td>9423</td>\n      <td>Rubber processing machine operators and relate...</td>\n      <td>Rubber processing machine operators and relate...</td>\n    </tr>\n    <tr>\n      <th>306</th>\n      <td>4</td>\n      <td>Unit group</td>\n      <td>4169</td>\n      <td>Other professional occupations in social scien...</td>\n      <td>Other professional occupations in social scien...</td>\n    </tr>\n    <tr>\n      <th>674</th>\n      <td>4</td>\n      <td>Unit group</td>\n      <td>9533</td>\n      <td>Other wood products assemblers and inspectors</td>\n      <td>Other wood products assemblers assemble a vari...</td>\n    </tr>\n    <tr>\n      <th>31</th>\n      <td>4</td>\n      <td>Unit group</td>\n      <td>0412</td>\n      <td>Government managers - economic analysis, polic...</td>\n      <td>Government managers in economic analysis, poli...</td>\n    </tr>\n  </tbody>\n</table>\n</div>"
     },
     "metadata": {},
     "execution_count": 4
    }
   ],
   "source": [
    "noc_structure.sample(10)"
   ]
  },
  {
   "cell_type": "code",
   "execution_count": 5,
   "metadata": {},
   "outputs": [],
   "source": [
    "noc_elements = pd.read_csv(\"https://www.statcan.gc.ca/eng/statistical-programs/document/noc-cnp-2016-element-v4-eng.csv\")"
   ]
  },
  {
   "cell_type": "code",
   "execution_count": 6,
   "metadata": {},
   "outputs": [
    {
     "output_type": "execute_result",
     "data": {
      "text/plain": "(43126, 9)"
     },
     "metadata": {},
     "execution_count": 6
    }
   ],
   "source": [
    "noc_elements.shape"
   ]
  },
  {
   "cell_type": "code",
   "execution_count": 7,
   "metadata": {},
   "outputs": [
    {
     "output_type": "execute_result",
     "data": {
      "text/plain": "       Level  Code                                        Class title  \\\n13732      4  3232                   Practitioners of natural healing   \n41507      4  9537  Other products assemblers, finishers and inspe...   \n32300      4  9211          Supervisors, mineral and metal processing   \n11185      4  2263  Inspectors in public and environmental health ...   \n1654       4   411  Government managers - health and social policy...   \n34954      4  9416         Metalworking and forging machine operators   \n26828      4  7311  Construction millwrights and industrial mechanics   \n35653      4  9421                   Chemical plant machine operators   \n11774      4  2282                           User support technicians   \n37445      4  9441  Textile fibre and yarn, hide and pelt processi...   \n777        4   114             Other administrative services managers   \n3562       4   822                           Managers in horticulture   \n28188      4  7381                           Printing press operators   \n24331      4  7232                                Tool and die makers   \n34107      4  9411    Machine operators, mineral and metal processing   \n21774      4  6511                Maîtres d'hôtel and hosts/hostesses   \n6013       4  1414                                      Receptionists   \n38392      4  9461  Process control and machine operators, food an...   \n3767       4   912                                 Utilities managers   \n\n      Element Type Label English  \\\n13732               All examples   \n41507               All examples   \n32300               All examples   \n11185               All examples   \n1654                 Main duties   \n34954               All examples   \n26828               All examples   \n35653               All examples   \n11774                Main duties   \n37445               All examples   \n777                 All examples   \n3562                Exclusion(s)   \n28188               All examples   \n24331               All examples   \n34107               All examples   \n21774                Main duties   \n6013                All examples   \n38392               All examples   \n3767                All examples   \n\n                             Element Description English  Unnamed: 5  \\\n13732                                         herbalist          NaN   \n41507                               pearl earring maker          NaN   \n32300        stone products manufacturing foreman/woman          NaN   \n11185                quarantine officer - public health          NaN   \n1654   This group performs some or all of the followi...         NaN   \n34954                 punch press setter - metalworking          NaN   \n26828                            oil drill rig mechanic          NaN   \n35653        vinyl and asbestos-blending machine tender          NaN   \n11774  Participate in the redesign of applications an...         NaN   \n37445    winding machine tender - textile manufacturing          NaN   \n777        operations manager - administrative services          NaN   \n3562   Nursery and greenhouse workers  (See 8432 Nurs...         NaN   \n28188               assistant pressman/woman - printing          NaN   \n24331                                  bench die sinker          NaN   \n34107                                zinc cell operator          NaN   \n21774          Order dining room supplies and equipment          NaN   \n6013                              hospital receptionist          NaN   \n38392                  snuff dryer - tobacco processing          NaN   \n3767       transmission operations director - utilities          NaN   \n\n       Unnamed: 6  Unnamed: 7  Unnamed: 8  \n13732         NaN         NaN         NaN  \n41507         NaN         NaN         NaN  \n32300         NaN         NaN         NaN  \n11185         NaN         NaN         NaN  \n1654          NaN         NaN         NaN  \n34954         NaN         NaN         NaN  \n26828         NaN         NaN         NaN  \n35653         NaN         NaN         NaN  \n11774         NaN         NaN         NaN  \n37445         NaN         NaN         NaN  \n777           NaN         NaN         NaN  \n3562          NaN         NaN         NaN  \n28188         NaN         NaN         NaN  \n24331         NaN         NaN         NaN  \n34107         NaN         NaN         NaN  \n21774         NaN         NaN         NaN  \n6013          NaN         NaN         NaN  \n38392         NaN         NaN         NaN  \n3767          NaN         NaN         NaN  ",
      "text/html": "<div>\n<style scoped>\n    .dataframe tbody tr th:only-of-type {\n        vertical-align: middle;\n    }\n\n    .dataframe tbody tr th {\n        vertical-align: top;\n    }\n\n    .dataframe thead th {\n        text-align: right;\n    }\n</style>\n<table border=\"1\" class=\"dataframe\">\n  <thead>\n    <tr style=\"text-align: right;\">\n      <th></th>\n      <th>Level</th>\n      <th>Code</th>\n      <th>Class title</th>\n      <th>Element Type Label English</th>\n      <th>Element Description English</th>\n      <th>Unnamed: 5</th>\n      <th>Unnamed: 6</th>\n      <th>Unnamed: 7</th>\n      <th>Unnamed: 8</th>\n    </tr>\n  </thead>\n  <tbody>\n    <tr>\n      <th>13732</th>\n      <td>4</td>\n      <td>3232</td>\n      <td>Practitioners of natural healing</td>\n      <td>All examples</td>\n      <td>herbalist</td>\n      <td>NaN</td>\n      <td>NaN</td>\n      <td>NaN</td>\n      <td>NaN</td>\n    </tr>\n    <tr>\n      <th>41507</th>\n      <td>4</td>\n      <td>9537</td>\n      <td>Other products assemblers, finishers and inspe...</td>\n      <td>All examples</td>\n      <td>pearl earring maker</td>\n      <td>NaN</td>\n      <td>NaN</td>\n      <td>NaN</td>\n      <td>NaN</td>\n    </tr>\n    <tr>\n      <th>32300</th>\n      <td>4</td>\n      <td>9211</td>\n      <td>Supervisors, mineral and metal processing</td>\n      <td>All examples</td>\n      <td>stone products manufacturing foreman/woman</td>\n      <td>NaN</td>\n      <td>NaN</td>\n      <td>NaN</td>\n      <td>NaN</td>\n    </tr>\n    <tr>\n      <th>11185</th>\n      <td>4</td>\n      <td>2263</td>\n      <td>Inspectors in public and environmental health ...</td>\n      <td>All examples</td>\n      <td>quarantine officer - public health</td>\n      <td>NaN</td>\n      <td>NaN</td>\n      <td>NaN</td>\n      <td>NaN</td>\n    </tr>\n    <tr>\n      <th>1654</th>\n      <td>4</td>\n      <td>411</td>\n      <td>Government managers - health and social policy...</td>\n      <td>Main duties</td>\n      <td>This group performs some or all of the followi...</td>\n      <td>NaN</td>\n      <td>NaN</td>\n      <td>NaN</td>\n      <td>NaN</td>\n    </tr>\n    <tr>\n      <th>34954</th>\n      <td>4</td>\n      <td>9416</td>\n      <td>Metalworking and forging machine operators</td>\n      <td>All examples</td>\n      <td>punch press setter - metalworking</td>\n      <td>NaN</td>\n      <td>NaN</td>\n      <td>NaN</td>\n      <td>NaN</td>\n    </tr>\n    <tr>\n      <th>26828</th>\n      <td>4</td>\n      <td>7311</td>\n      <td>Construction millwrights and industrial mechanics</td>\n      <td>All examples</td>\n      <td>oil drill rig mechanic</td>\n      <td>NaN</td>\n      <td>NaN</td>\n      <td>NaN</td>\n      <td>NaN</td>\n    </tr>\n    <tr>\n      <th>35653</th>\n      <td>4</td>\n      <td>9421</td>\n      <td>Chemical plant machine operators</td>\n      <td>All examples</td>\n      <td>vinyl and asbestos-blending machine tender</td>\n      <td>NaN</td>\n      <td>NaN</td>\n      <td>NaN</td>\n      <td>NaN</td>\n    </tr>\n    <tr>\n      <th>11774</th>\n      <td>4</td>\n      <td>2282</td>\n      <td>User support technicians</td>\n      <td>Main duties</td>\n      <td>Participate in the redesign of applications an...</td>\n      <td>NaN</td>\n      <td>NaN</td>\n      <td>NaN</td>\n      <td>NaN</td>\n    </tr>\n    <tr>\n      <th>37445</th>\n      <td>4</td>\n      <td>9441</td>\n      <td>Textile fibre and yarn, hide and pelt processi...</td>\n      <td>All examples</td>\n      <td>winding machine tender - textile manufacturing</td>\n      <td>NaN</td>\n      <td>NaN</td>\n      <td>NaN</td>\n      <td>NaN</td>\n    </tr>\n    <tr>\n      <th>777</th>\n      <td>4</td>\n      <td>114</td>\n      <td>Other administrative services managers</td>\n      <td>All examples</td>\n      <td>operations manager - administrative services</td>\n      <td>NaN</td>\n      <td>NaN</td>\n      <td>NaN</td>\n      <td>NaN</td>\n    </tr>\n    <tr>\n      <th>3562</th>\n      <td>4</td>\n      <td>822</td>\n      <td>Managers in horticulture</td>\n      <td>Exclusion(s)</td>\n      <td>Nursery and greenhouse workers  (See 8432 Nurs...</td>\n      <td>NaN</td>\n      <td>NaN</td>\n      <td>NaN</td>\n      <td>NaN</td>\n    </tr>\n    <tr>\n      <th>28188</th>\n      <td>4</td>\n      <td>7381</td>\n      <td>Printing press operators</td>\n      <td>All examples</td>\n      <td>assistant pressman/woman - printing</td>\n      <td>NaN</td>\n      <td>NaN</td>\n      <td>NaN</td>\n      <td>NaN</td>\n    </tr>\n    <tr>\n      <th>24331</th>\n      <td>4</td>\n      <td>7232</td>\n      <td>Tool and die makers</td>\n      <td>All examples</td>\n      <td>bench die sinker</td>\n      <td>NaN</td>\n      <td>NaN</td>\n      <td>NaN</td>\n      <td>NaN</td>\n    </tr>\n    <tr>\n      <th>34107</th>\n      <td>4</td>\n      <td>9411</td>\n      <td>Machine operators, mineral and metal processing</td>\n      <td>All examples</td>\n      <td>zinc cell operator</td>\n      <td>NaN</td>\n      <td>NaN</td>\n      <td>NaN</td>\n      <td>NaN</td>\n    </tr>\n    <tr>\n      <th>21774</th>\n      <td>4</td>\n      <td>6511</td>\n      <td>Maîtres d'hôtel and hosts/hostesses</td>\n      <td>Main duties</td>\n      <td>Order dining room supplies and equipment</td>\n      <td>NaN</td>\n      <td>NaN</td>\n      <td>NaN</td>\n      <td>NaN</td>\n    </tr>\n    <tr>\n      <th>6013</th>\n      <td>4</td>\n      <td>1414</td>\n      <td>Receptionists</td>\n      <td>All examples</td>\n      <td>hospital receptionist</td>\n      <td>NaN</td>\n      <td>NaN</td>\n      <td>NaN</td>\n      <td>NaN</td>\n    </tr>\n    <tr>\n      <th>38392</th>\n      <td>4</td>\n      <td>9461</td>\n      <td>Process control and machine operators, food an...</td>\n      <td>All examples</td>\n      <td>snuff dryer - tobacco processing</td>\n      <td>NaN</td>\n      <td>NaN</td>\n      <td>NaN</td>\n      <td>NaN</td>\n    </tr>\n    <tr>\n      <th>3767</th>\n      <td>4</td>\n      <td>912</td>\n      <td>Utilities managers</td>\n      <td>All examples</td>\n      <td>transmission operations director - utilities</td>\n      <td>NaN</td>\n      <td>NaN</td>\n      <td>NaN</td>\n      <td>NaN</td>\n    </tr>\n  </tbody>\n</table>\n</div>"
     },
     "metadata": {},
     "execution_count": 7
    }
   ],
   "source": [
    "noc_elements.sample(19)"
   ]
  },
  {
   "source": [
    "the elements csv file has 9 columns and 43,126 rows and the Stucture file has 5 columns and 690 rows. from the sample exploration, the elements table contains null columns that will be remove before insertion to postgrest\n"
   ],
   "cell_type": "markdown",
   "metadata": {}
  },
  {
   "cell_type": "code",
   "execution_count": 8,
   "metadata": {},
   "outputs": [],
   "source": [
    "noc_elements = noc_elements.dropna(1)"
   ]
  },
  {
   "cell_type": "code",
   "execution_count": 9,
   "metadata": {},
   "outputs": [
    {
     "output_type": "execute_result",
     "data": {
      "text/plain": "(43126, 5)"
     },
     "metadata": {},
     "execution_count": 9
    }
   ],
   "source": [
    "noc_elements.shape"
   ]
  },
  {
   "source": [
    "### Step 2: Data Wrangling\n",
    "In this part we will manage all the data to generated a normalize database in Postgres. \n",
    "the main idea is to generate all the necesary Stucture for model Training and Search Engine Support "
   ],
   "cell_type": "markdown",
   "metadata": {}
  },
  {
   "cell_type": "code",
   "execution_count": 10,
   "metadata": {},
   "outputs": [],
   "source": [
    "noc_structure.columns = [\"level\",\"hierarchical_structure\",\"code\",\"title\",\"definition\"]"
   ]
  },
  {
   "cell_type": "code",
   "execution_count": 11,
   "metadata": {},
   "outputs": [],
   "source": [
    "tierOne = noc_structure[noc_structure.level == 1][[\"code\",\"title\",\"definition\"]]\n",
    "tierOne.columns = [\"code_tier_one\",\"title\",\"definition\"]"
   ]
  },
  {
   "cell_type": "code",
   "execution_count": 12,
   "metadata": {},
   "outputs": [],
   "source": [
    "tierTwo = noc_structure[noc_structure.level == 2][[\"code\",\"title\",\"definition\"]]"
   ]
  },
  {
   "cell_type": "code",
   "execution_count": 15,
   "metadata": {},
   "outputs": [],
   "source": [
    "diff_row_tier = tierTwo[[len(x) > 2 for x in  tierTwo.code]].copy()"
   ]
  },
  {
   "cell_type": "code",
   "execution_count": 16,
   "metadata": {
    "tags": []
   },
   "outputs": [],
   "source": [
    "data = []\n",
    "for i in range(len(diff_row_tier)):\n",
    "    row = diff_row_tier.iloc[i,:].copy()\n",
    "    start, end = row.code.split(\"-\")\n",
    "    for n in np.arange(int(start),int(end)+1):\n",
    "        d = row.copy()\n",
    "        d.code = str(n).zfill(2)\n",
    "        data.append(d)"
   ]
  },
  {
   "cell_type": "code",
   "execution_count": 17,
   "metadata": {},
   "outputs": [],
   "source": [
    "append_data = pd.DataFrame(data)"
   ]
  },
  {
   "cell_type": "code",
   "execution_count": 18,
   "metadata": {},
   "outputs": [
    {
     "output_type": "execute_result",
     "data": {
      "text/plain": "   code                                              title  \\\n9    01          Specialized middle management occupations   \n9    02          Specialized middle management occupations   \n9    03          Specialized middle management occupations   \n9    04          Specialized middle management occupations   \n9    05          Specialized middle management occupations   \n56   07  Middle management occupations in trades, trans...   \n56   08  Middle management occupations in trades, trans...   \n56   09  Middle management occupations in trades, trans...   \n\n                                           definition  \n9   This major group comprises specialized middle ...  \n9   This major group comprises specialized middle ...  \n9   This major group comprises specialized middle ...  \n9   This major group comprises specialized middle ...  \n9   This major group comprises specialized middle ...  \n56  This major group comprises middle management o...  \n56  This major group comprises middle management o...  \n56  This major group comprises middle management o...  ",
      "text/html": "<div>\n<style scoped>\n    .dataframe tbody tr th:only-of-type {\n        vertical-align: middle;\n    }\n\n    .dataframe tbody tr th {\n        vertical-align: top;\n    }\n\n    .dataframe thead th {\n        text-align: right;\n    }\n</style>\n<table border=\"1\" class=\"dataframe\">\n  <thead>\n    <tr style=\"text-align: right;\">\n      <th></th>\n      <th>code</th>\n      <th>title</th>\n      <th>definition</th>\n    </tr>\n  </thead>\n  <tbody>\n    <tr>\n      <th>9</th>\n      <td>01</td>\n      <td>Specialized middle management occupations</td>\n      <td>This major group comprises specialized middle ...</td>\n    </tr>\n    <tr>\n      <th>9</th>\n      <td>02</td>\n      <td>Specialized middle management occupations</td>\n      <td>This major group comprises specialized middle ...</td>\n    </tr>\n    <tr>\n      <th>9</th>\n      <td>03</td>\n      <td>Specialized middle management occupations</td>\n      <td>This major group comprises specialized middle ...</td>\n    </tr>\n    <tr>\n      <th>9</th>\n      <td>04</td>\n      <td>Specialized middle management occupations</td>\n      <td>This major group comprises specialized middle ...</td>\n    </tr>\n    <tr>\n      <th>9</th>\n      <td>05</td>\n      <td>Specialized middle management occupations</td>\n      <td>This major group comprises specialized middle ...</td>\n    </tr>\n    <tr>\n      <th>56</th>\n      <td>07</td>\n      <td>Middle management occupations in trades, trans...</td>\n      <td>This major group comprises middle management o...</td>\n    </tr>\n    <tr>\n      <th>56</th>\n      <td>08</td>\n      <td>Middle management occupations in trades, trans...</td>\n      <td>This major group comprises middle management o...</td>\n    </tr>\n    <tr>\n      <th>56</th>\n      <td>09</td>\n      <td>Middle management occupations in trades, trans...</td>\n      <td>This major group comprises middle management o...</td>\n    </tr>\n  </tbody>\n</table>\n</div>"
     },
     "metadata": {},
     "execution_count": 18
    }
   ],
   "source": [
    "append_data"
   ]
  },
  {
   "cell_type": "code",
   "execution_count": 19,
   "metadata": {},
   "outputs": [],
   "source": [
    "tierTwo = tierTwo[~tierTwo.code.isin(code_sep.code)].append(append_data)"
   ]
  },
  {
   "cell_type": "code",
   "execution_count": 20,
   "metadata": {},
   "outputs": [],
   "source": [
    "tierTwo.sort_values(\"code\",inplace=True)"
   ]
  },
  {
   "cell_type": "code",
   "execution_count": 21,
   "metadata": {},
   "outputs": [],
   "source": [
    "tierTwo.reset_index(inplace= True,drop=True)"
   ]
  },
  {
   "cell_type": "code",
   "execution_count": 22,
   "metadata": {},
   "outputs": [
    {
     "output_type": "execute_result",
     "data": {
      "text/plain": "   code_tier_two                                              title  \\\n34            72     Industrial, electrical and construction trades   \n14            15  Distribution, tracking and scheduling co-ordin...   \n16            22  Technical occupations related to natural and a...   \n45            96  Labourers in processing, manufacturing and uti...   \n5             05          Specialized middle management occupations   \n44            95                        Assemblers in manufacturing   \n37            75  Transport and heavy equipment operation and re...   \n22            41  Professional occupations in law and social, co...   \n19            32                    Technical occupations in health   \n41            86  Harvesting, landscaping and natural resources ...   \n\n                                           definition  \n34  This major group comprises occupations in indu...  \n14  This major group comprises distribution, track...  \n16  This major group comprises technical occupatio...  \n45  This major group comprises labourers in manufa...  \n5   This major group comprises specialized middle ...  \n44  This major group comprises assemblers in manuf...  \n37  This major group comprises occupations in tran...  \n22  This major group comprises professional occupa...  \n19  This major group comprises technical occupatio...  \n41  This major group comprises labourers in harves...  ",
      "text/html": "<div>\n<style scoped>\n    .dataframe tbody tr th:only-of-type {\n        vertical-align: middle;\n    }\n\n    .dataframe tbody tr th {\n        vertical-align: top;\n    }\n\n    .dataframe thead th {\n        text-align: right;\n    }\n</style>\n<table border=\"1\" class=\"dataframe\">\n  <thead>\n    <tr style=\"text-align: right;\">\n      <th></th>\n      <th>code_tier_two</th>\n      <th>title</th>\n      <th>definition</th>\n    </tr>\n  </thead>\n  <tbody>\n    <tr>\n      <th>34</th>\n      <td>72</td>\n      <td>Industrial, electrical and construction trades</td>\n      <td>This major group comprises occupations in indu...</td>\n    </tr>\n    <tr>\n      <th>14</th>\n      <td>15</td>\n      <td>Distribution, tracking and scheduling co-ordin...</td>\n      <td>This major group comprises distribution, track...</td>\n    </tr>\n    <tr>\n      <th>16</th>\n      <td>22</td>\n      <td>Technical occupations related to natural and a...</td>\n      <td>This major group comprises technical occupatio...</td>\n    </tr>\n    <tr>\n      <th>45</th>\n      <td>96</td>\n      <td>Labourers in processing, manufacturing and uti...</td>\n      <td>This major group comprises labourers in manufa...</td>\n    </tr>\n    <tr>\n      <th>5</th>\n      <td>05</td>\n      <td>Specialized middle management occupations</td>\n      <td>This major group comprises specialized middle ...</td>\n    </tr>\n    <tr>\n      <th>44</th>\n      <td>95</td>\n      <td>Assemblers in manufacturing</td>\n      <td>This major group comprises assemblers in manuf...</td>\n    </tr>\n    <tr>\n      <th>37</th>\n      <td>75</td>\n      <td>Transport and heavy equipment operation and re...</td>\n      <td>This major group comprises occupations in tran...</td>\n    </tr>\n    <tr>\n      <th>22</th>\n      <td>41</td>\n      <td>Professional occupations in law and social, co...</td>\n      <td>This major group comprises professional occupa...</td>\n    </tr>\n    <tr>\n      <th>19</th>\n      <td>32</td>\n      <td>Technical occupations in health</td>\n      <td>This major group comprises technical occupatio...</td>\n    </tr>\n    <tr>\n      <th>41</th>\n      <td>86</td>\n      <td>Harvesting, landscaping and natural resources ...</td>\n      <td>This major group comprises labourers in harves...</td>\n    </tr>\n  </tbody>\n</table>\n</div>"
     },
     "metadata": {},
     "execution_count": 22
    }
   ],
   "source": [
    "tierTwo.columns = [\"code_tier_two\",\"title\",\"definition\"]\n",
    "tierTwo.sample(10)"
   ]
  },
  {
   "cell_type": "code",
   "execution_count": 23,
   "metadata": {},
   "outputs": [],
   "source": [
    "tierThree = noc_structure[noc_structure.level == 3][[\"code\",\"title\",\"definition\"]]"
   ]
  },
  {
   "cell_type": "code",
   "execution_count": 24,
   "metadata": {},
   "outputs": [
    {
     "output_type": "execute_result",
     "data": {
      "text/plain": "    code_tier_three                                              title  \\\n49              062                Retail and wholesale trade managers   \n663             952  Mechanical, electrical and electronics assemblers   \n486             728                      Masonry and plastering trades   \n74              111  Auditors, accountants and investment professio...   \n392             632                                    Chefs and cooks   \n491             729                          Other construction trades   \n537             745            Longshore workers and material handlers   \n259             322        Technical occupations in dental health care   \n280             402           College and other vocational instructors   \n244             314               Therapy and assessment professionals   \n\n                                            definition  \n49   This minor group includes retail and wholesale...  \n663  This minor group includes aircraft assemblers ...  \n486  This minor group includes bricklayers, concret...  \n74   This minor group includes financial auditors, ...  \n392  This minor group includes chefs and cooks. The...  \n491  This minor group includes roofers, shinglers, ...  \n537  This minor group includes longshore workers an...  \n259  This minor group includes such technical occup...  \n280  This minor group includes instructors who teac...  \n244  This minor group includes audiologists, speech...  ",
      "text/html": "<div>\n<style scoped>\n    .dataframe tbody tr th:only-of-type {\n        vertical-align: middle;\n    }\n\n    .dataframe tbody tr th {\n        vertical-align: top;\n    }\n\n    .dataframe thead th {\n        text-align: right;\n    }\n</style>\n<table border=\"1\" class=\"dataframe\">\n  <thead>\n    <tr style=\"text-align: right;\">\n      <th></th>\n      <th>code_tier_three</th>\n      <th>title</th>\n      <th>definition</th>\n    </tr>\n  </thead>\n  <tbody>\n    <tr>\n      <th>49</th>\n      <td>062</td>\n      <td>Retail and wholesale trade managers</td>\n      <td>This minor group includes retail and wholesale...</td>\n    </tr>\n    <tr>\n      <th>663</th>\n      <td>952</td>\n      <td>Mechanical, electrical and electronics assemblers</td>\n      <td>This minor group includes aircraft assemblers ...</td>\n    </tr>\n    <tr>\n      <th>486</th>\n      <td>728</td>\n      <td>Masonry and plastering trades</td>\n      <td>This minor group includes bricklayers, concret...</td>\n    </tr>\n    <tr>\n      <th>74</th>\n      <td>111</td>\n      <td>Auditors, accountants and investment professio...</td>\n      <td>This minor group includes financial auditors, ...</td>\n    </tr>\n    <tr>\n      <th>392</th>\n      <td>632</td>\n      <td>Chefs and cooks</td>\n      <td>This minor group includes chefs and cooks. The...</td>\n    </tr>\n    <tr>\n      <th>491</th>\n      <td>729</td>\n      <td>Other construction trades</td>\n      <td>This minor group includes roofers, shinglers, ...</td>\n    </tr>\n    <tr>\n      <th>537</th>\n      <td>745</td>\n      <td>Longshore workers and material handlers</td>\n      <td>This minor group includes longshore workers an...</td>\n    </tr>\n    <tr>\n      <th>259</th>\n      <td>322</td>\n      <td>Technical occupations in dental health care</td>\n      <td>This minor group includes such technical occup...</td>\n    </tr>\n    <tr>\n      <th>280</th>\n      <td>402</td>\n      <td>College and other vocational instructors</td>\n      <td>This minor group includes instructors who teac...</td>\n    </tr>\n    <tr>\n      <th>244</th>\n      <td>314</td>\n      <td>Therapy and assessment professionals</td>\n      <td>This minor group includes audiologists, speech...</td>\n    </tr>\n  </tbody>\n</table>\n</div>"
     },
     "metadata": {},
     "execution_count": 24
    }
   ],
   "source": [
    "tierThree.columns = [\"code_tier_three\",\"title\",\"definition\"]\n",
    "tierThree.sample(10)"
   ]
  },
  {
   "cell_type": "code",
   "execution_count": 25,
   "metadata": {},
   "outputs": [],
   "source": [
    "tierFour = noc_structure[noc_structure.level == 4][[\"code\",\"title\",\"definition\"]]"
   ]
  },
  {
   "cell_type": "code",
   "execution_count": 26,
   "metadata": {},
   "outputs": [
    {
     "output_type": "execute_result",
     "data": {
      "text/plain": "    code_tier_four                                              title  \\\n220           2275  Railway traffic controllers and marine traffic...   \n196           2232  Mechanical engineering technologists and techn...   \n659           9472  Camera, platemaking and other prepress occupat...   \n285           4033                            Educational counsellors   \n62            0731                         Managers in transportation   \n632           9417                           Machining tool operators   \n476           7245          Telecommunications line and cable workers   \n672           9531                     Boat assemblers and inspectors   \n666           9523  Electronics assemblers, fabricators, inspector...   \n43            0511  Library, archive, museum and art gallery managers   \n503           7305  Supervisors, motor transport and other ground ...   \n269           3237  Other technical occupations in therapy and ass...   \n586           8422                  Silviculture and forestry workers   \n416           6521                                 Travel counsellors   \n481           7252  Steamfitters, pipefitters and sprinkler system...   \n477           7246  Telecommunications installation and repair wor...   \n644           9436  Lumber graders and other wood processing inspe...   \n155           2122                             Forestry professionals   \n338           5123                                        Journalists   \n364           5242         Interior designers and interior decorators   \n\n                                            definition  \n220  Railway traffic controllers co-ordinate passen...  \n196  Mechanical engineering technologists and techn...  \n659  Camera and platemaking workers operate graphic...  \n285  Educational counsellors advise current and pro...  \n62   Managers in transportation operations plan, or...  \n632  Machining tool operators set up and operate or...  \n476  Telecommunications line and cable workers inst...  \n672  Boat assemblers assemble wooden, fibreglass an...  \n666  Electronics assemblers and fabricators assembl...  \n43   Library, archive, museum and art gallery manag...  \n503  Supervisors of motor transport and other groun...  \n269  Workers in other technical occupations in ther...  \n586  Silviculture and forestry workers perform a va...  \n416  Travel counsellors advise clients on travel op...  \n481  Steamfitters and pipefitters lay out, assemble...  \n477  Telecommunications installation and repair wor...  \n644  Lumber graders and other wood processing inspe...  \n155  Forestry professionals conduct research, devel...  \n338  Journalists research, investigate, interpret a...  \n364  Interior designers and interior decorators con...  ",
      "text/html": "<div>\n<style scoped>\n    .dataframe tbody tr th:only-of-type {\n        vertical-align: middle;\n    }\n\n    .dataframe tbody tr th {\n        vertical-align: top;\n    }\n\n    .dataframe thead th {\n        text-align: right;\n    }\n</style>\n<table border=\"1\" class=\"dataframe\">\n  <thead>\n    <tr style=\"text-align: right;\">\n      <th></th>\n      <th>code_tier_four</th>\n      <th>title</th>\n      <th>definition</th>\n    </tr>\n  </thead>\n  <tbody>\n    <tr>\n      <th>220</th>\n      <td>2275</td>\n      <td>Railway traffic controllers and marine traffic...</td>\n      <td>Railway traffic controllers co-ordinate passen...</td>\n    </tr>\n    <tr>\n      <th>196</th>\n      <td>2232</td>\n      <td>Mechanical engineering technologists and techn...</td>\n      <td>Mechanical engineering technologists and techn...</td>\n    </tr>\n    <tr>\n      <th>659</th>\n      <td>9472</td>\n      <td>Camera, platemaking and other prepress occupat...</td>\n      <td>Camera and platemaking workers operate graphic...</td>\n    </tr>\n    <tr>\n      <th>285</th>\n      <td>4033</td>\n      <td>Educational counsellors</td>\n      <td>Educational counsellors advise current and pro...</td>\n    </tr>\n    <tr>\n      <th>62</th>\n      <td>0731</td>\n      <td>Managers in transportation</td>\n      <td>Managers in transportation operations plan, or...</td>\n    </tr>\n    <tr>\n      <th>632</th>\n      <td>9417</td>\n      <td>Machining tool operators</td>\n      <td>Machining tool operators set up and operate or...</td>\n    </tr>\n    <tr>\n      <th>476</th>\n      <td>7245</td>\n      <td>Telecommunications line and cable workers</td>\n      <td>Telecommunications line and cable workers inst...</td>\n    </tr>\n    <tr>\n      <th>672</th>\n      <td>9531</td>\n      <td>Boat assemblers and inspectors</td>\n      <td>Boat assemblers assemble wooden, fibreglass an...</td>\n    </tr>\n    <tr>\n      <th>666</th>\n      <td>9523</td>\n      <td>Electronics assemblers, fabricators, inspector...</td>\n      <td>Electronics assemblers and fabricators assembl...</td>\n    </tr>\n    <tr>\n      <th>43</th>\n      <td>0511</td>\n      <td>Library, archive, museum and art gallery managers</td>\n      <td>Library, archive, museum and art gallery manag...</td>\n    </tr>\n    <tr>\n      <th>503</th>\n      <td>7305</td>\n      <td>Supervisors, motor transport and other ground ...</td>\n      <td>Supervisors of motor transport and other groun...</td>\n    </tr>\n    <tr>\n      <th>269</th>\n      <td>3237</td>\n      <td>Other technical occupations in therapy and ass...</td>\n      <td>Workers in other technical occupations in ther...</td>\n    </tr>\n    <tr>\n      <th>586</th>\n      <td>8422</td>\n      <td>Silviculture and forestry workers</td>\n      <td>Silviculture and forestry workers perform a va...</td>\n    </tr>\n    <tr>\n      <th>416</th>\n      <td>6521</td>\n      <td>Travel counsellors</td>\n      <td>Travel counsellors advise clients on travel op...</td>\n    </tr>\n    <tr>\n      <th>481</th>\n      <td>7252</td>\n      <td>Steamfitters, pipefitters and sprinkler system...</td>\n      <td>Steamfitters and pipefitters lay out, assemble...</td>\n    </tr>\n    <tr>\n      <th>477</th>\n      <td>7246</td>\n      <td>Telecommunications installation and repair wor...</td>\n      <td>Telecommunications installation and repair wor...</td>\n    </tr>\n    <tr>\n      <th>644</th>\n      <td>9436</td>\n      <td>Lumber graders and other wood processing inspe...</td>\n      <td>Lumber graders and other wood processing inspe...</td>\n    </tr>\n    <tr>\n      <th>155</th>\n      <td>2122</td>\n      <td>Forestry professionals</td>\n      <td>Forestry professionals conduct research, devel...</td>\n    </tr>\n    <tr>\n      <th>338</th>\n      <td>5123</td>\n      <td>Journalists</td>\n      <td>Journalists research, investigate, interpret a...</td>\n    </tr>\n    <tr>\n      <th>364</th>\n      <td>5242</td>\n      <td>Interior designers and interior decorators</td>\n      <td>Interior designers and interior decorators con...</td>\n    </tr>\n  </tbody>\n</table>\n</div>"
     },
     "metadata": {},
     "execution_count": 26
    }
   ],
   "source": [
    "tierFour.columns = [\"code_tier_four\",\"title\",\"definition\"]\n",
    "tierFour.sample(20)"
   ]
  },
  {
   "cell_type": "code",
   "execution_count": 44,
   "metadata": {},
   "outputs": [
    {
     "output_type": "execute_result",
     "data": {
      "text/plain": "    code_tier_four                                              title  \\\n3             0011                                        Legislators   \n4             0012           Senior government managers and officials   \n5             0013  Senior managers - financial, communications an...   \n6             0014  Senior managers - health, education, social an...   \n7             0015  Senior managers - trade, broadcasting and othe...   \n..             ...                                                ...   \n685           9615  Labourers in rubber and plastic products manuf...   \n686           9616                    Labourers in textile processing   \n687           9617          Labourers in food and beverage processing   \n688           9618           Labourers in fish and seafood processing   \n689           9619  Other labourers in processing, manufacturing a...   \n\n                                            definition  \n3    Legislators participate in the activities of a...  \n4    Senior government managers and officials plan,...  \n5    Senior managers in financial, communications a...  \n6    Senior managers in health, education, social a...  \n7    Senior managers in trade, broadcasting and oth...  \n..                                                 ...  \n685  Labourers in rubber and plastic products manuf...  \n686  Labourers in textile processing perform a vari...  \n687  Labourers in food and beverage processing perf...  \n688  Labourers in fish and seafood processing perfo...  \n689  Other labourers in processing, manufacturing a...  \n\n[500 rows x 3 columns]",
      "text/html": "<div>\n<style scoped>\n    .dataframe tbody tr th:only-of-type {\n        vertical-align: middle;\n    }\n\n    .dataframe tbody tr th {\n        vertical-align: top;\n    }\n\n    .dataframe thead th {\n        text-align: right;\n    }\n</style>\n<table border=\"1\" class=\"dataframe\">\n  <thead>\n    <tr style=\"text-align: right;\">\n      <th></th>\n      <th>code_tier_four</th>\n      <th>title</th>\n      <th>definition</th>\n    </tr>\n  </thead>\n  <tbody>\n    <tr>\n      <th>3</th>\n      <td>0011</td>\n      <td>Legislators</td>\n      <td>Legislators participate in the activities of a...</td>\n    </tr>\n    <tr>\n      <th>4</th>\n      <td>0012</td>\n      <td>Senior government managers and officials</td>\n      <td>Senior government managers and officials plan,...</td>\n    </tr>\n    <tr>\n      <th>5</th>\n      <td>0013</td>\n      <td>Senior managers - financial, communications an...</td>\n      <td>Senior managers in financial, communications a...</td>\n    </tr>\n    <tr>\n      <th>6</th>\n      <td>0014</td>\n      <td>Senior managers - health, education, social an...</td>\n      <td>Senior managers in health, education, social a...</td>\n    </tr>\n    <tr>\n      <th>7</th>\n      <td>0015</td>\n      <td>Senior managers - trade, broadcasting and othe...</td>\n      <td>Senior managers in trade, broadcasting and oth...</td>\n    </tr>\n    <tr>\n      <th>...</th>\n      <td>...</td>\n      <td>...</td>\n      <td>...</td>\n    </tr>\n    <tr>\n      <th>685</th>\n      <td>9615</td>\n      <td>Labourers in rubber and plastic products manuf...</td>\n      <td>Labourers in rubber and plastic products manuf...</td>\n    </tr>\n    <tr>\n      <th>686</th>\n      <td>9616</td>\n      <td>Labourers in textile processing</td>\n      <td>Labourers in textile processing perform a vari...</td>\n    </tr>\n    <tr>\n      <th>687</th>\n      <td>9617</td>\n      <td>Labourers in food and beverage processing</td>\n      <td>Labourers in food and beverage processing perf...</td>\n    </tr>\n    <tr>\n      <th>688</th>\n      <td>9618</td>\n      <td>Labourers in fish and seafood processing</td>\n      <td>Labourers in fish and seafood processing perfo...</td>\n    </tr>\n    <tr>\n      <th>689</th>\n      <td>9619</td>\n      <td>Other labourers in processing, manufacturing a...</td>\n      <td>Other labourers in processing, manufacturing a...</td>\n    </tr>\n  </tbody>\n</table>\n<p>500 rows × 3 columns</p>\n</div>"
     },
     "metadata": {},
     "execution_count": 44
    }
   ],
   "source": [
    "tierFour"
   ]
  },
  {
   "cell_type": "code",
   "execution_count": 28,
   "metadata": {},
   "outputs": [],
   "source": [
    "noc_elements.columns = [\"level\",\"code\",\"title\",\"type\",\"description\"]"
   ]
  },
  {
   "cell_type": "code",
   "execution_count": 29,
   "metadata": {},
   "outputs": [],
   "source": [
    "noc_elements[\"code_tier_four\"] = noc_elements.code.apply(lambda t: str(t).zfill(4))\n",
    "noc_elements[\"code_tier_three\"] = noc_elements.code_tier_four.apply(lambda t4: t4[:3] )\n",
    "noc_elements[\"code_tier_two\"] = noc_elements.code_tier_four.apply(lambda t4: t4[:2] )\n",
    "noc_elements[\"code_tier_one\"] = noc_elements.code_tier_four.apply(lambda t4: t4[:1] )"
   ]
  },
  {
   "cell_type": "code",
   "execution_count": 31,
   "metadata": {},
   "outputs": [
    {
     "output_type": "execute_result",
     "data": {
      "text/plain": "      level  code                              title                     type  \\\n7685      4  2121  Biologists and related scientists  Illustrative example(s)   \n7686      4  2121  Biologists and related scientists  Illustrative example(s)   \n7687      4  2121  Biologists and related scientists  Illustrative example(s)   \n7688      4  2121  Biologists and related scientists  Illustrative example(s)   \n7689      4  2121  Biologists and related scientists  Illustrative example(s)   \n...     ...   ...                                ...                      ...   \n7854      4  2121  Biologists and related scientists              Main duties   \n7855      4  2121  Biologists and related scientists  Employment requirements   \n7856      4  2121  Biologists and related scientists  Employment requirements   \n7857      4  2121  Biologists and related scientists  Employment requirements   \n7858      4  2121  Biologists and related scientists  Employment requirements   \n\n                                            description code_tier_four  \\\n7685                                         anatomist            2121   \n7686                                    bacteriologist            2121   \n7687                                  bioinformatician            2121   \n7688                                         biologist            2121   \n7689                                          botanist            2121   \n...                                                 ...            ...   \n7854  Biologists and related scientists may speciali...           2121   \n7855  A bachelor's degree in biology or in a related...           2121   \n7856  A master's or doctoral degree in biology or a ...           2121   \n7857  Post-doctoral research experience is usually r...           2121   \n7858  Biologists are regulated in Alberta and Britis...           2121   \n\n     code_tier_three code_tier_two code_tier_one  \n7685             212            21             2  \n7686             212            21             2  \n7687             212            21             2  \n7688             212            21             2  \n7689             212            21             2  \n...              ...           ...           ...  \n7854             212            21             2  \n7855             212            21             2  \n7856             212            21             2  \n7857             212            21             2  \n7858             212            21             2  \n\n[174 rows x 9 columns]",
      "text/html": "<div>\n<style scoped>\n    .dataframe tbody tr th:only-of-type {\n        vertical-align: middle;\n    }\n\n    .dataframe tbody tr th {\n        vertical-align: top;\n    }\n\n    .dataframe thead th {\n        text-align: right;\n    }\n</style>\n<table border=\"1\" class=\"dataframe\">\n  <thead>\n    <tr style=\"text-align: right;\">\n      <th></th>\n      <th>level</th>\n      <th>code</th>\n      <th>title</th>\n      <th>type</th>\n      <th>description</th>\n      <th>code_tier_four</th>\n      <th>code_tier_three</th>\n      <th>code_tier_two</th>\n      <th>code_tier_one</th>\n    </tr>\n  </thead>\n  <tbody>\n    <tr>\n      <th>7685</th>\n      <td>4</td>\n      <td>2121</td>\n      <td>Biologists and related scientists</td>\n      <td>Illustrative example(s)</td>\n      <td>anatomist</td>\n      <td>2121</td>\n      <td>212</td>\n      <td>21</td>\n      <td>2</td>\n    </tr>\n    <tr>\n      <th>7686</th>\n      <td>4</td>\n      <td>2121</td>\n      <td>Biologists and related scientists</td>\n      <td>Illustrative example(s)</td>\n      <td>bacteriologist</td>\n      <td>2121</td>\n      <td>212</td>\n      <td>21</td>\n      <td>2</td>\n    </tr>\n    <tr>\n      <th>7687</th>\n      <td>4</td>\n      <td>2121</td>\n      <td>Biologists and related scientists</td>\n      <td>Illustrative example(s)</td>\n      <td>bioinformatician</td>\n      <td>2121</td>\n      <td>212</td>\n      <td>21</td>\n      <td>2</td>\n    </tr>\n    <tr>\n      <th>7688</th>\n      <td>4</td>\n      <td>2121</td>\n      <td>Biologists and related scientists</td>\n      <td>Illustrative example(s)</td>\n      <td>biologist</td>\n      <td>2121</td>\n      <td>212</td>\n      <td>21</td>\n      <td>2</td>\n    </tr>\n    <tr>\n      <th>7689</th>\n      <td>4</td>\n      <td>2121</td>\n      <td>Biologists and related scientists</td>\n      <td>Illustrative example(s)</td>\n      <td>botanist</td>\n      <td>2121</td>\n      <td>212</td>\n      <td>21</td>\n      <td>2</td>\n    </tr>\n    <tr>\n      <th>...</th>\n      <td>...</td>\n      <td>...</td>\n      <td>...</td>\n      <td>...</td>\n      <td>...</td>\n      <td>...</td>\n      <td>...</td>\n      <td>...</td>\n      <td>...</td>\n    </tr>\n    <tr>\n      <th>7854</th>\n      <td>4</td>\n      <td>2121</td>\n      <td>Biologists and related scientists</td>\n      <td>Main duties</td>\n      <td>Biologists and related scientists may speciali...</td>\n      <td>2121</td>\n      <td>212</td>\n      <td>21</td>\n      <td>2</td>\n    </tr>\n    <tr>\n      <th>7855</th>\n      <td>4</td>\n      <td>2121</td>\n      <td>Biologists and related scientists</td>\n      <td>Employment requirements</td>\n      <td>A bachelor's degree in biology or in a related...</td>\n      <td>2121</td>\n      <td>212</td>\n      <td>21</td>\n      <td>2</td>\n    </tr>\n    <tr>\n      <th>7856</th>\n      <td>4</td>\n      <td>2121</td>\n      <td>Biologists and related scientists</td>\n      <td>Employment requirements</td>\n      <td>A master's or doctoral degree in biology or a ...</td>\n      <td>2121</td>\n      <td>212</td>\n      <td>21</td>\n      <td>2</td>\n    </tr>\n    <tr>\n      <th>7857</th>\n      <td>4</td>\n      <td>2121</td>\n      <td>Biologists and related scientists</td>\n      <td>Employment requirements</td>\n      <td>Post-doctoral research experience is usually r...</td>\n      <td>2121</td>\n      <td>212</td>\n      <td>21</td>\n      <td>2</td>\n    </tr>\n    <tr>\n      <th>7858</th>\n      <td>4</td>\n      <td>2121</td>\n      <td>Biologists and related scientists</td>\n      <td>Employment requirements</td>\n      <td>Biologists are regulated in Alberta and Britis...</td>\n      <td>2121</td>\n      <td>212</td>\n      <td>21</td>\n      <td>2</td>\n    </tr>\n  </tbody>\n</table>\n<p>174 rows × 9 columns</p>\n</div>"
     },
     "metadata": {},
     "execution_count": 31
    }
   ],
   "source": [
    "noc_elements[noc_elements.code == 2121]"
   ]
  },
  {
   "cell_type": "code",
   "execution_count": 35,
   "metadata": {},
   "outputs": [],
   "source": [
    "information_type = noc_elements[\"type\"].drop_duplicates().to_list()"
   ]
  },
  {
   "cell_type": "code",
   "execution_count": 40,
   "metadata": {
    "tags": []
   },
   "outputs": [],
   "source": [
    "#for i_type in information_type:\n",
    "#    noc_elements[noc_elements.type == i_type][[\"code_tier_four\",\"description\"]].sample(5)"
   ]
  },
  {
   "cell_type": "code",
   "execution_count": 58,
   "metadata": {},
   "outputs": [],
   "source": [
    "type_to_table = {t:\"\" for t in noc_elements.type.drop_duplicates().to_list()}"
   ]
  },
  {
   "cell_type": "code",
   "execution_count": 62,
   "metadata": {},
   "outputs": [],
   "source": [
    "type_to_table[\"Illustrative example(s)\"] = \"NOC_EXAMPLES\"\n",
    "type_to_table[\"All examples\"] = \"NOC_EXAMPLES\"\n",
    "type_to_table[\"Exclusion(s)\"] = \"NOC_EXCLUSIONS\"\n",
    "type_to_table[\"Main duties\"] = \"NOC_MAIN_DUTIES\"\n",
    "type_to_table[\"Employment requirements\"] = \"NOC_EMPLOYMENT_REQUIREMENTS\"\n",
    "type_to_table[\"Inclusion(s)\"] = \"NOC_INCLUSIONS\"\n",
    "type_to_table[\"Additional information\"] = \"NOC_ADITIONAL_INFORMATION\"\n",
    "\n",
    "\n"
   ]
  },
  {
   "cell_type": "code",
   "execution_count": 64,
   "metadata": {},
   "outputs": [
    {
     "output_type": "execute_result",
     "data": {
      "text/plain": "{'Illustrative example(s)': 'NOC_EXAMPLES',\n 'All examples': 'NOC_EXAMPLES',\n 'Exclusion(s)': 'NOC_EXCLUSIONS',\n 'Main duties': 'NOC_MAIN_DUTIES',\n 'Employment requirements': 'NOC_EMPLOYMENT_REQUIREMENTS',\n 'Inclusion(s)': 'NOC_INCLUSIONS',\n 'Additional information': 'NOC_ADITIONAL_INFORMATION'}"
     },
     "metadata": {},
     "execution_count": 64
    }
   ],
   "source": [
    "type_to_table"
   ]
  },
  {
   "cell_type": "code",
   "execution_count": 66,
   "metadata": {},
   "outputs": [
    {
     "output_type": "execute_result",
     "data": {
      "text/plain": "      code_tier_four                                        description\n52              0011  This group performs some or all of the followi...\n53              0011       Enact, amend or repeal laws and regulations \n54              0011  Participate in developing or amending governme...\n55              0011  Represent their government at local, national ...\n56              0011  Respond to matters of concern to constituents ...\n...              ...                                                ...\n43118           9619            Check and weigh materials and products \n43119           9619  Sort, pack, crate and package materials and pr...\n43120           9619  Assist machine operators, assemblers and other...\n43121           9619                    Clean work areas and equipment \n43122           9619  Perform other labouring and elemental activiti...\n\n[5867 rows x 2 columns]",
      "text/html": "<div>\n<style scoped>\n    .dataframe tbody tr th:only-of-type {\n        vertical-align: middle;\n    }\n\n    .dataframe tbody tr th {\n        vertical-align: top;\n    }\n\n    .dataframe thead th {\n        text-align: right;\n    }\n</style>\n<table border=\"1\" class=\"dataframe\">\n  <thead>\n    <tr style=\"text-align: right;\">\n      <th></th>\n      <th>code_tier_four</th>\n      <th>description</th>\n    </tr>\n  </thead>\n  <tbody>\n    <tr>\n      <th>52</th>\n      <td>0011</td>\n      <td>This group performs some or all of the followi...</td>\n    </tr>\n    <tr>\n      <th>53</th>\n      <td>0011</td>\n      <td>Enact, amend or repeal laws and regulations</td>\n    </tr>\n    <tr>\n      <th>54</th>\n      <td>0011</td>\n      <td>Participate in developing or amending governme...</td>\n    </tr>\n    <tr>\n      <th>55</th>\n      <td>0011</td>\n      <td>Represent their government at local, national ...</td>\n    </tr>\n    <tr>\n      <th>56</th>\n      <td>0011</td>\n      <td>Respond to matters of concern to constituents ...</td>\n    </tr>\n    <tr>\n      <th>...</th>\n      <td>...</td>\n      <td>...</td>\n    </tr>\n    <tr>\n      <th>43118</th>\n      <td>9619</td>\n      <td>Check and weigh materials and products</td>\n    </tr>\n    <tr>\n      <th>43119</th>\n      <td>9619</td>\n      <td>Sort, pack, crate and package materials and pr...</td>\n    </tr>\n    <tr>\n      <th>43120</th>\n      <td>9619</td>\n      <td>Assist machine operators, assemblers and other...</td>\n    </tr>\n    <tr>\n      <th>43121</th>\n      <td>9619</td>\n      <td>Clean work areas and equipment</td>\n    </tr>\n    <tr>\n      <th>43122</th>\n      <td>9619</td>\n      <td>Perform other labouring and elemental activiti...</td>\n    </tr>\n  </tbody>\n</table>\n<p>5867 rows × 2 columns</p>\n</div>"
     },
     "metadata": {},
     "execution_count": 66
    }
   ],
   "source": [
    "noc_elements[noc_elements.type == \"Main duties\"][[\"code_tier_four\",\"description\"]]"
   ]
  },
  {
   "cell_type": "code",
   "execution_count": 67,
   "metadata": {},
   "outputs": [
    {
     "output_type": "execute_result",
     "data": {
      "text/plain": "      code_tier_four                                        description\n159             0012  There is mobility among senior management occu...\n248             0013  There is mobility among senior management occu...\n358             0014  There is mobility among senior management occu...\n435             0015  There is mobility among senior management occu...\n511             0016  There is mobility among senior management occu...\n...              ...                                                ...\n42687           9617  There is some mobility among occupations in th...\n42688           9617  Labourers in food and beverage processing may ...\n42735           9618  Progression to other occupations in the fish p...\n43124           9619  There is some mobility among occupations in th...\n43125           9619  Progression to machine operating positions is ...\n\n[629 rows x 2 columns]",
      "text/html": "<div>\n<style scoped>\n    .dataframe tbody tr th:only-of-type {\n        vertical-align: middle;\n    }\n\n    .dataframe tbody tr th {\n        vertical-align: top;\n    }\n\n    .dataframe thead th {\n        text-align: right;\n    }\n</style>\n<table border=\"1\" class=\"dataframe\">\n  <thead>\n    <tr style=\"text-align: right;\">\n      <th></th>\n      <th>code_tier_four</th>\n      <th>description</th>\n    </tr>\n  </thead>\n  <tbody>\n    <tr>\n      <th>159</th>\n      <td>0012</td>\n      <td>There is mobility among senior management occu...</td>\n    </tr>\n    <tr>\n      <th>248</th>\n      <td>0013</td>\n      <td>There is mobility among senior management occu...</td>\n    </tr>\n    <tr>\n      <th>358</th>\n      <td>0014</td>\n      <td>There is mobility among senior management occu...</td>\n    </tr>\n    <tr>\n      <th>435</th>\n      <td>0015</td>\n      <td>There is mobility among senior management occu...</td>\n    </tr>\n    <tr>\n      <th>511</th>\n      <td>0016</td>\n      <td>There is mobility among senior management occu...</td>\n    </tr>\n    <tr>\n      <th>...</th>\n      <td>...</td>\n      <td>...</td>\n    </tr>\n    <tr>\n      <th>42687</th>\n      <td>9617</td>\n      <td>There is some mobility among occupations in th...</td>\n    </tr>\n    <tr>\n      <th>42688</th>\n      <td>9617</td>\n      <td>Labourers in food and beverage processing may ...</td>\n    </tr>\n    <tr>\n      <th>42735</th>\n      <td>9618</td>\n      <td>Progression to other occupations in the fish p...</td>\n    </tr>\n    <tr>\n      <th>43124</th>\n      <td>9619</td>\n      <td>There is some mobility among occupations in th...</td>\n    </tr>\n    <tr>\n      <th>43125</th>\n      <td>9619</td>\n      <td>Progression to machine operating positions is ...</td>\n    </tr>\n  </tbody>\n</table>\n<p>629 rows × 2 columns</p>\n</div>"
     },
     "metadata": {},
     "execution_count": 67
    }
   ],
   "source": [
    "noc_elements[noc_elements.type == \"Additional information\"][[\"code_tier_four\",\"description\"]]"
   ]
  },
  {
   "cell_type": "code",
   "execution_count": null,
   "metadata": {},
   "outputs": [],
   "source": []
  }
 ]
}