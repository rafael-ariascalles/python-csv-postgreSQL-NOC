{
 "cells": [
  {
   "cell_type": "markdown",
   "id": "5a3a98a0-5aa5-46e0-a154-6d230440c994",
   "metadata": {},
   "source": [
    "### Libraries"
   ]
  },
  {
   "cell_type": "code",
   "execution_count": 3,
   "id": "7c5e923c-48c5-43cc-a8b5-68334f9e4c69",
   "metadata": {},
   "outputs": [],
   "source": [
    "import pandas as pd\n",
    "from sqlalchemy import create_engine"
   ]
  },
  {
   "cell_type": "code",
   "execution_count": 15,
   "id": "5c585ab2-e496-49cd-84e6-c566d4b82698",
   "metadata": {},
   "outputs": [
    {
     "data": {
      "text/html": [
       "<style>.container{width:100% !important;}</style>"
      ],
      "text/plain": [
       "<IPython.core.display.HTML object>"
      ]
     },
     "metadata": {},
     "output_type": "display_data"
    }
   ],
   "source": [
    "#Pandas format for decimals\n",
    "pd.options.display.float_format = \"{:,.2f}\".format\n",
    "#Display of the ipynb \n",
    "from IPython.core.display import display,HTML\n",
    "display(HTML(\"<style>.container{width:100% !important;}</style>\"))\n",
    "pd.set_option('display.width', 2000)"
   ]
  },
  {
   "cell_type": "markdown",
   "id": "3be451fe-93e9-4098-b471-309c82a37961",
   "metadata": {},
   "source": [
    "### Data Understanding"
   ]
  },
  {
   "cell_type": "code",
   "execution_count": 4,
   "id": "72d5946f-d60e-4a18-a733-d23bb72e882b",
   "metadata": {},
   "outputs": [],
   "source": [
    "USER = \"postgres\"\n",
    "PASS = \"pass\"\n",
    "HOST = \"pg\"\n",
    "PORT = \"5432\"\n",
    "SCHEMA = \"noc_search_engine\"\n",
    "\n",
    "db_connection_str = \"postgresql+psycopg2://{}:{}@{}:{}/{}\".format(USER,PASS,HOST,PORT,SCHEMA)"
   ]
  },
  {
   "cell_type": "code",
   "execution_count": 5,
   "id": "cc48e5d5-83b8-4c08-b68b-a8c4f745ee6b",
   "metadata": {},
   "outputs": [],
   "source": [
    "db_connection = create_engine(db_connection_str)"
   ]
  },
  {
   "cell_type": "code",
   "execution_count": 28,
   "id": "e385d15d-0a5a-43d3-92fe-d163cdc034a3",
   "metadata": {},
   "outputs": [],
   "source": [
    "sql_query = \"\"\"\n",
    "    select \n",
    "    md.text_description job_duties\n",
    "    , nue.text_description job_title\n",
    "    , concat(nue.text_description,md.text_description) job_description\n",
    "    , nu.unit_title noc_name\n",
    "    ,nu.unit_code noc \n",
    "    from public.noc_unit_main_duties md\n",
    "    left join noc_unit nu  on md.unit_code  = nu.unit_code\n",
    "    left join noc_unit_example nue on md.unit_code  = nue.unit_code\n",
    "\"\"\""
   ]
  },
  {
   "cell_type": "code",
   "execution_count": 29,
   "id": "7ab48b86-9eba-48cd-a829-d692f42d2f91",
   "metadata": {},
   "outputs": [],
   "source": [
    "df = pd.read_sql(sql_query,con=db_connection)"
   ]
  },
  {
   "cell_type": "code",
   "execution_count": 30,
   "id": "291f5c6a-349f-4852-8682-b7a2b538b411",
   "metadata": {},
   "outputs": [
    {
     "name": "stdout",
     "output_type": "stream",
     "text": [
      "<class 'pandas.core.frame.DataFrame'>\n",
      "RangeIndex: 370319 entries, 0 to 370318\n",
      "Data columns (total 5 columns):\n",
      " #   Column           Non-Null Count   Dtype \n",
      "---  ------           --------------   ----- \n",
      " 0   job_duties       370319 non-null  object\n",
      " 1   job_title        370319 non-null  object\n",
      " 2   job_description  370319 non-null  object\n",
      " 3   noc_name         370319 non-null  object\n",
      " 4   noc              370319 non-null  object\n",
      "dtypes: object(5)\n",
      "memory usage: 14.1+ MB\n"
     ]
    }
   ],
   "source": [
    "df.info()"
   ]
  },
  {
   "cell_type": "code",
   "execution_count": 31,
   "id": "6e2d5fa8-2d0f-43ee-9b53-1a2e27e5be1a",
   "metadata": {},
   "outputs": [
    {
     "data": {
      "text/html": [
       "<div>\n",
       "<style scoped>\n",
       "    .dataframe tbody tr th:only-of-type {\n",
       "        vertical-align: middle;\n",
       "    }\n",
       "\n",
       "    .dataframe tbody tr th {\n",
       "        vertical-align: top;\n",
       "    }\n",
       "\n",
       "    .dataframe thead th {\n",
       "        text-align: right;\n",
       "    }\n",
       "</style>\n",
       "<table border=\"1\" class=\"dataframe\">\n",
       "  <thead>\n",
       "    <tr style=\"text-align: right;\">\n",
       "      <th></th>\n",
       "      <th>job_duties</th>\n",
       "      <th>job_title</th>\n",
       "      <th>job_description</th>\n",
       "      <th>noc_name</th>\n",
       "      <th>noc</th>\n",
       "    </tr>\n",
       "  </thead>\n",
       "  <tbody>\n",
       "    <tr>\n",
       "      <th>36517</th>\n",
       "      <td>administer oaths</td>\n",
       "      <td>commissioner of marriages</td>\n",
       "      <td>commissioner of marriagesadminister oaths</td>\n",
       "      <td>Court officers and justices of the peace</td>\n",
       "      <td>1227</td>\n",
       "    </tr>\n",
       "    <tr>\n",
       "      <th>79601</th>\n",
       "      <td>inspect and test operation of instruments and ...</td>\n",
       "      <td>industrial instrument technician</td>\n",
       "      <td>industrial instrument technicianinspect and te...</td>\n",
       "      <td>Industrial instrument technicians and mechanics</td>\n",
       "      <td>2243</td>\n",
       "    </tr>\n",
       "    <tr>\n",
       "      <th>45975</th>\n",
       "      <td>compile budget data and documents based on est...</td>\n",
       "      <td>account audit clerk</td>\n",
       "      <td>account audit clerkcompile budget data and doc...</td>\n",
       "      <td>Accounting and related clerks</td>\n",
       "      <td>1431</td>\n",
       "    </tr>\n",
       "    <tr>\n",
       "      <th>234309</th>\n",
       "      <td>set up press and check samples for ink coverag...</td>\n",
       "      <td>rotogravure press operator - printing</td>\n",
       "      <td>rotogravure press operator - printingset up pr...</td>\n",
       "      <td>Printing press operators</td>\n",
       "      <td>7381</td>\n",
       "    </tr>\n",
       "    <tr>\n",
       "      <th>227761</th>\n",
       "      <td>repair or replace mechanical units or componen...</td>\n",
       "      <td>transport truck mechanic</td>\n",
       "      <td>transport truck mechanicrepair or replace mech...</td>\n",
       "      <td>Automotive service technicians, truck and bus ...</td>\n",
       "      <td>7321</td>\n",
       "    </tr>\n",
       "    <tr>\n",
       "      <th>361050</th>\n",
       "      <td>affix seals or tags to approved items and retu...</td>\n",
       "      <td>asphalt roofing slitter operator</td>\n",
       "      <td>asphalt roofing slitter operatoraffix seals or...</td>\n",
       "      <td>Other products assemblers, finishers and inspe...</td>\n",
       "      <td>9537</td>\n",
       "    </tr>\n",
       "    <tr>\n",
       "      <th>305431</th>\n",
       "      <td>operate finishing machines or equipment to tri...</td>\n",
       "      <td>tire bagger</td>\n",
       "      <td>tire baggeroperate finishing machines or equip...</td>\n",
       "      <td>Rubber processing machine operators and relate...</td>\n",
       "      <td>9423</td>\n",
       "    </tr>\n",
       "    <tr>\n",
       "      <th>333317</th>\n",
       "      <td>check motor vehicle exterior priming and colou...</td>\n",
       "      <td>body assembler - motor vehicle manufacturing</td>\n",
       "      <td>body assembler - motor vehicle manufacturingch...</td>\n",
       "      <td>Motor vehicle assemblers, inspectors and testers</td>\n",
       "      <td>9522</td>\n",
       "    </tr>\n",
       "    <tr>\n",
       "      <th>209590</th>\n",
       "      <td>complete test reports and maintain test and se...</td>\n",
       "      <td>private branch exchange (pbx) installer - tele...</td>\n",
       "      <td>private branch exchange (pbx) installer - tele...</td>\n",
       "      <td>Telecommunications installation and repair wor...</td>\n",
       "      <td>7246</td>\n",
       "    </tr>\n",
       "    <tr>\n",
       "      <th>224495</th>\n",
       "      <td>construct foundations for machinery or direct ...</td>\n",
       "      <td>loom repairer - textile manufacturing</td>\n",
       "      <td>loom repairer - textile manufacturingconstruct...</td>\n",
       "      <td>Construction millwrights and industrial mechanics</td>\n",
       "      <td>7311</td>\n",
       "    </tr>\n",
       "  </tbody>\n",
       "</table>\n",
       "</div>"
      ],
      "text/plain": [
       "                                               job_duties                                          job_title                                    job_description                                           noc_name   noc\n",
       "36517                                    administer oaths                          commissioner of marriages          commissioner of marriagesadminister oaths           Court officers and justices of the peace  1227\n",
       "79601   inspect and test operation of instruments and ...                   industrial instrument technician  industrial instrument technicianinspect and te...    Industrial instrument technicians and mechanics  2243\n",
       "45975   compile budget data and documents based on est...                                account audit clerk  account audit clerkcompile budget data and doc...                      Accounting and related clerks  1431\n",
       "234309  set up press and check samples for ink coverag...              rotogravure press operator - printing  rotogravure press operator - printingset up pr...                           Printing press operators  7381\n",
       "227761  repair or replace mechanical units or componen...                           transport truck mechanic  transport truck mechanicrepair or replace mech...  Automotive service technicians, truck and bus ...  7321\n",
       "361050  affix seals or tags to approved items and retu...                   asphalt roofing slitter operator  asphalt roofing slitter operatoraffix seals or...  Other products assemblers, finishers and inspe...  9537\n",
       "305431  operate finishing machines or equipment to tri...                                        tire bagger  tire baggeroperate finishing machines or equip...  Rubber processing machine operators and relate...  9423\n",
       "333317  check motor vehicle exterior priming and colou...       body assembler - motor vehicle manufacturing  body assembler - motor vehicle manufacturingch...   Motor vehicle assemblers, inspectors and testers  9522\n",
       "209590  complete test reports and maintain test and se...  private branch exchange (pbx) installer - tele...  private branch exchange (pbx) installer - tele...  Telecommunications installation and repair wor...  7246\n",
       "224495  construct foundations for machinery or direct ...              loom repairer - textile manufacturing  loom repairer - textile manufacturingconstruct...  Construction millwrights and industrial mechanics  7311"
      ]
     },
     "execution_count": 31,
     "metadata": {},
     "output_type": "execute_result"
    }
   ],
   "source": [
    "df.sample(10)"
   ]
  },
  {
   "cell_type": "markdown",
   "id": "d8688b74-a910-4839-aff5-1c3c774d750c",
   "metadata": {},
   "source": [
    "### Exploratory Data Analysis"
   ]
  },
  {
   "cell_type": "code",
   "execution_count": 32,
   "id": "9bd7945e-a9ed-4537-886e-9e3447973d4a",
   "metadata": {},
   "outputs": [],
   "source": [
    "#TODO"
   ]
  },
  {
   "cell_type": "markdown",
   "id": "33d4d784-396f-4de0-aa72-0cef4e4cda97",
   "metadata": {},
   "source": [
    "### Data Preprocessing"
   ]
  },
  {
   "cell_type": "code",
   "execution_count": null,
   "id": "f3ddbf50-210d-44f2-8dde-cb013ec6f780",
   "metadata": {},
   "outputs": [],
   "source": [
    "#TODO"
   ]
  },
  {
   "cell_type": "markdown",
   "id": "e54fb332-3d86-41b9-a84d-ac7fcc197561",
   "metadata": {},
   "source": [
    "### Model "
   ]
  },
  {
   "cell_type": "code",
   "execution_count": null,
   "id": "7a6157fe-2970-4ea9-a8a7-2c757f266797",
   "metadata": {},
   "outputs": [],
   "source": [
    "#TODO"
   ]
  },
  {
   "cell_type": "markdown",
   "id": "b0ab0789-6263-48e9-9978-f5edc7837270",
   "metadata": {},
   "source": [
    "### Evaluation"
   ]
  },
  {
   "cell_type": "code",
   "execution_count": null,
   "id": "6604ee0d-0ea4-427e-a4ec-20b94a8a3364",
   "metadata": {},
   "outputs": [],
   "source": [
    "#TODO"
   ]
  },
  {
   "cell_type": "markdown",
   "id": "c8ed5988-27f4-4f3b-9d93-42b694232104",
   "metadata": {},
   "source": [
    "### Insight"
   ]
  },
  {
   "cell_type": "code",
   "execution_count": null,
   "id": "4ce87403-91b4-4eb9-b8a7-e1fe136f01cc",
   "metadata": {},
   "outputs": [],
   "source": [
    "#TODO"
   ]
  }
 ],
 "metadata": {
  "kernelspec": {
   "display_name": "Python 3",
   "language": "python",
   "name": "python3"
  },
  "language_info": {
   "codemirror_mode": {
    "name": "ipython",
    "version": 3
   },
   "file_extension": ".py",
   "mimetype": "text/x-python",
   "name": "python",
   "nbconvert_exporter": "python",
   "pygments_lexer": "ipython3",
   "version": "3.6.9"
  }
 },
 "nbformat": 4,
 "nbformat_minor": 5
}
