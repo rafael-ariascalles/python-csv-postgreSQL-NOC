{
 "metadata": {
  "language_info": {
   "codemirror_mode": {
    "name": "ipython",
    "version": 3
   },
   "file_extension": ".py",
   "mimetype": "text/x-python",
   "name": "python",
   "nbconvert_exporter": "python",
   "pygments_lexer": "ipython3",
   "version": "3.6.9-final"
  },
  "orig_nbformat": 2,
  "kernelspec": {
   "name": "Python 3.6.9 64-bit",
   "display_name": "Python 3.6.9 64-bit",
   "metadata": {
    "interpreter": {
     "hash": "4cd7ab41f5fca4b9b44701077e38c5ffd31fe66a6cab21e0214b68d958d0e462"
    }
   }
  }
 },
 "nbformat": 4,
 "nbformat_minor": 2,
 "cells": [
  {
   "cell_type": "code",
   "execution_count": null,
   "source": [
    "#!pip install pandas\n",
    "#!pip install sqlalchemy\n",
    "#!pip install psycopg2-binary"
   ],
   "outputs": [],
   "metadata": {}
  },
  {
   "cell_type": "code",
   "execution_count": 31,
   "source": [
    "import pandas as pd\n",
    "import numpy as np\n",
    "from sqlalchemy import event\n",
    "from sqlalchemy import create_engine\n",
    "from sqlalchemy.ext.automap import automap_base\n",
    "from sqlalchemy.orm import Session\n",
    "from sqlalchemy.sql import text as sql_text\n"
   ],
   "outputs": [],
   "metadata": {}
  },
  {
   "cell_type": "markdown",
   "source": [
    "### Step 1: Information about the NOC version 1.3 update Dec2019\n",
    "in this step we will uste the information from the official website and the NOC we will use 2 files for this process. in this steps is mandatory to have internet connection in order to download the oficial documents"
   ],
   "metadata": {}
  },
  {
   "cell_type": "code",
   "execution_count": 32,
   "source": [
    "noc_structure = pd.read_csv(\"https://www.statcan.gc.ca/eng/statistical-programs/document/noc-cnp-2016-structure-v4-eng.csv\")"
   ],
   "outputs": [],
   "metadata": {}
  },
  {
   "cell_type": "code",
   "execution_count": 33,
   "source": [
    "noc_structure.shape"
   ],
   "outputs": [
    {
     "output_type": "execute_result",
     "data": {
      "text/plain": [
       "(690, 5)"
      ]
     },
     "metadata": {},
     "execution_count": 33
    }
   ],
   "metadata": {}
  },
  {
   "cell_type": "code",
   "execution_count": 34,
   "source": [
    "noc_elements = pd.read_csv(\"https://www.statcan.gc.ca/eng/statistical-programs/document/noc-cnp-2016-element-v4-eng.csv\")"
   ],
   "outputs": [],
   "metadata": {}
  },
  {
   "cell_type": "code",
   "execution_count": 35,
   "source": [
    "noc_elements.shape"
   ],
   "outputs": [
    {
     "output_type": "execute_result",
     "data": {
      "text/plain": [
       "(43126, 9)"
      ]
     },
     "metadata": {},
     "execution_count": 35
    }
   ],
   "metadata": {}
  },
  {
   "cell_type": "markdown",
   "source": [
    "the elements csv file has 9 columns and 43,126 rows and the Stucture file has 5 columns and 690 rows. from the sample exploration, the elements table contains null columns that will be remove before insertion to postgrest\n"
   ],
   "metadata": {}
  },
  {
   "cell_type": "code",
   "execution_count": 36,
   "source": [
    "noc_elements = noc_elements.dropna(1)"
   ],
   "outputs": [],
   "metadata": {}
  },
  {
   "cell_type": "code",
   "execution_count": 37,
   "source": [
    "noc_elements.shape"
   ],
   "outputs": [
    {
     "output_type": "execute_result",
     "data": {
      "text/plain": [
       "(43126, 5)"
      ]
     },
     "metadata": {},
     "execution_count": 37
    }
   ],
   "metadata": {}
  },
  {
   "cell_type": "markdown",
   "source": [
    "### Step 2: Data Wrangling\n",
    "In this part we will manage all the data to generated a normalize database in Postgres. \n",
    "the main idea is to generate all the necesary Stucture for model Training and Search Engine Support "
   ],
   "metadata": {}
  },
  {
   "cell_type": "code",
   "execution_count": 38,
   "source": [
    "noc_structure.columns = [\"level\",\"hierarchical_structure\",\"code\",\"title\",\"definition\"]"
   ],
   "outputs": [],
   "metadata": {}
  },
  {
   "cell_type": "markdown",
   "source": [
    "##### GROUP NOC"
   ],
   "metadata": {}
  },
  {
   "cell_type": "code",
   "execution_count": 39,
   "source": [
    "tierOne = noc_structure[noc_structure.level == 1][[\"code\",\"title\",\"definition\"]]\n",
    "tierOne.columns = [\"group_code\",\"group_title\",\"group_definition\"]"
   ],
   "outputs": [],
   "metadata": {}
  },
  {
   "cell_type": "markdown",
   "source": [
    "##### MAJOR CODE"
   ],
   "metadata": {}
  },
  {
   "cell_type": "code",
   "execution_count": 40,
   "source": [
    "tierTwo = noc_structure[noc_structure.level == 2][[\"code\",\"title\",\"definition\"]]\n",
    "diff_row_tier = tierTwo[[len(x) > 2 for x in  tierTwo.code]].copy()"
   ],
   "outputs": [],
   "metadata": {}
  },
  {
   "cell_type": "code",
   "execution_count": 41,
   "source": [
    "data = []\n",
    "for i in range(len(diff_row_tier)):\n",
    "    row = diff_row_tier.iloc[i,:].copy()\n",
    "    start, end = row.code.split(\"-\")\n",
    "    for n in np.arange(int(start),int(end)+1):\n",
    "        d = row.copy()\n",
    "        d.code = str(n).zfill(2)\n",
    "        data.append(d)"
   ],
   "outputs": [],
   "metadata": {
    "tags": []
   }
  },
  {
   "cell_type": "code",
   "execution_count": 42,
   "source": [
    "append_data = pd.DataFrame(data)"
   ],
   "outputs": [],
   "metadata": {}
  },
  {
   "cell_type": "code",
   "execution_count": 43,
   "source": [
    "append_data"
   ],
   "outputs": [
    {
     "output_type": "execute_result",
     "data": {
      "text/plain": [
       "   code                                              title  \\\n",
       "9    01          Specialized middle management occupations   \n",
       "9    02          Specialized middle management occupations   \n",
       "9    03          Specialized middle management occupations   \n",
       "9    04          Specialized middle management occupations   \n",
       "9    05          Specialized middle management occupations   \n",
       "56   07  Middle management occupations in trades, trans...   \n",
       "56   08  Middle management occupations in trades, trans...   \n",
       "56   09  Middle management occupations in trades, trans...   \n",
       "\n",
       "                                           definition  \n",
       "9   This major group comprises specialized middle ...  \n",
       "9   This major group comprises specialized middle ...  \n",
       "9   This major group comprises specialized middle ...  \n",
       "9   This major group comprises specialized middle ...  \n",
       "9   This major group comprises specialized middle ...  \n",
       "56  This major group comprises middle management o...  \n",
       "56  This major group comprises middle management o...  \n",
       "56  This major group comprises middle management o...  "
      ],
      "text/html": [
       "<div>\n",
       "<style scoped>\n",
       "    .dataframe tbody tr th:only-of-type {\n",
       "        vertical-align: middle;\n",
       "    }\n",
       "\n",
       "    .dataframe tbody tr th {\n",
       "        vertical-align: top;\n",
       "    }\n",
       "\n",
       "    .dataframe thead th {\n",
       "        text-align: right;\n",
       "    }\n",
       "</style>\n",
       "<table border=\"1\" class=\"dataframe\">\n",
       "  <thead>\n",
       "    <tr style=\"text-align: right;\">\n",
       "      <th></th>\n",
       "      <th>code</th>\n",
       "      <th>title</th>\n",
       "      <th>definition</th>\n",
       "    </tr>\n",
       "  </thead>\n",
       "  <tbody>\n",
       "    <tr>\n",
       "      <th>9</th>\n",
       "      <td>01</td>\n",
       "      <td>Specialized middle management occupations</td>\n",
       "      <td>This major group comprises specialized middle ...</td>\n",
       "    </tr>\n",
       "    <tr>\n",
       "      <th>9</th>\n",
       "      <td>02</td>\n",
       "      <td>Specialized middle management occupations</td>\n",
       "      <td>This major group comprises specialized middle ...</td>\n",
       "    </tr>\n",
       "    <tr>\n",
       "      <th>9</th>\n",
       "      <td>03</td>\n",
       "      <td>Specialized middle management occupations</td>\n",
       "      <td>This major group comprises specialized middle ...</td>\n",
       "    </tr>\n",
       "    <tr>\n",
       "      <th>9</th>\n",
       "      <td>04</td>\n",
       "      <td>Specialized middle management occupations</td>\n",
       "      <td>This major group comprises specialized middle ...</td>\n",
       "    </tr>\n",
       "    <tr>\n",
       "      <th>9</th>\n",
       "      <td>05</td>\n",
       "      <td>Specialized middle management occupations</td>\n",
       "      <td>This major group comprises specialized middle ...</td>\n",
       "    </tr>\n",
       "    <tr>\n",
       "      <th>56</th>\n",
       "      <td>07</td>\n",
       "      <td>Middle management occupations in trades, trans...</td>\n",
       "      <td>This major group comprises middle management o...</td>\n",
       "    </tr>\n",
       "    <tr>\n",
       "      <th>56</th>\n",
       "      <td>08</td>\n",
       "      <td>Middle management occupations in trades, trans...</td>\n",
       "      <td>This major group comprises middle management o...</td>\n",
       "    </tr>\n",
       "    <tr>\n",
       "      <th>56</th>\n",
       "      <td>09</td>\n",
       "      <td>Middle management occupations in trades, trans...</td>\n",
       "      <td>This major group comprises middle management o...</td>\n",
       "    </tr>\n",
       "  </tbody>\n",
       "</table>\n",
       "</div>"
      ]
     },
     "metadata": {},
     "execution_count": 43
    }
   ],
   "metadata": {}
  },
  {
   "cell_type": "code",
   "execution_count": 44,
   "source": [
    "tierTwo = tierTwo[~tierTwo.code.isin(diff_row_tier.code)].append(append_data)"
   ],
   "outputs": [],
   "metadata": {}
  },
  {
   "cell_type": "code",
   "execution_count": 45,
   "source": [
    "tierTwo.columns = [\"major_code\",\"major_title\",\"major_definition\"]"
   ],
   "outputs": [],
   "metadata": {}
  },
  {
   "cell_type": "markdown",
   "source": [
    "##### MINOR CODE"
   ],
   "metadata": {}
  },
  {
   "cell_type": "code",
   "execution_count": 46,
   "source": [
    "tierThree = noc_structure[noc_structure.level == 3][[\"code\",\"title\",\"definition\"]]\n",
    "tierThree.columns = [\"minor_code\",\"minor_title\",\"minor_definition\"]"
   ],
   "outputs": [],
   "metadata": {}
  },
  {
   "cell_type": "markdown",
   "source": [
    "##### UNIT CODE"
   ],
   "metadata": {}
  },
  {
   "cell_type": "code",
   "execution_count": 47,
   "source": [
    "tierFour = noc_structure[noc_structure.level == 4][[\"code\",\"title\",\"definition\"]]\n",
    "tierFour.columns = [\"unit_code\",\"unit_title\",\"unit_definition\"]"
   ],
   "outputs": [],
   "metadata": {}
  },
  {
   "cell_type": "code",
   "execution_count": 48,
   "source": [
    "noc_elements.columns = [\"level\",\"code\",\"title\",\"type\",\"text_description\"]"
   ],
   "outputs": [],
   "metadata": {}
  },
  {
   "cell_type": "code",
   "execution_count": 49,
   "source": [
    "noc_elements[\"unit_code\"] = noc_elements.code.apply(lambda t: str(t).zfill(4))\n",
    "noc_elements[\"minor_code\"] = noc_elements.unit_code.apply(lambda t4: t4[:3] )\n",
    "noc_elements[\"major_code\"] = noc_elements.unit_code.apply(lambda t4: t4[:2] )\n",
    "noc_elements[\"group_code\"] = noc_elements.unit_code.apply(lambda t4: t4[:1] )\n",
    "noc_elements[\"title\"] = noc_elements.title.str.lower().str.strip()\n",
    "noc_elements[\"text_description\"] = noc_elements.text_description.str.lower().str.strip()\n",
    "noc_elements = noc_elements.query(\"text_description != 'this group performs some or all of the following duties:'\")"
   ],
   "outputs": [],
   "metadata": {}
  },
  {
   "cell_type": "code",
   "execution_count": 50,
   "source": [
    "noc_elements.sample(5)"
   ],
   "outputs": [
    {
     "output_type": "execute_result",
     "data": {
      "text/plain": [
       "       level  code                              title  \\\n",
       "7814       4  2121  Biologists and related scientists   \n",
       "8595       4  2146                Aerospace engineers   \n",
       "16491      4  4211  Paralegal and related occupations   \n",
       "3415       4   821            Managers in agriculture   \n",
       "20386      4  6222        Retail and wholesale buyers   \n",
       "\n",
       "                          type  \\\n",
       "7814              All examples   \n",
       "8595               Main duties   \n",
       "16491             All examples   \n",
       "3415   Illustrative example(s)   \n",
       "20386   Additional information   \n",
       "\n",
       "                                        text_description unit_code minor_code  \\\n",
       "7814                                  poultry scientist       2121        212   \n",
       "8595   Design and develop aerospace vehicles, systems...      2146        214   \n",
       "16491                                         paralegal       4211        421   \n",
       "3415                                   vineyard manager       0821        082   \n",
       "20386  Progression to management positions in retail ...      6222        622   \n",
       "\n",
       "      major_code group_code  \n",
       "7814          21          2  \n",
       "8595          21          2  \n",
       "16491         42          4  \n",
       "3415          08          0  \n",
       "20386         62          6  "
      ],
      "text/html": [
       "<div>\n",
       "<style scoped>\n",
       "    .dataframe tbody tr th:only-of-type {\n",
       "        vertical-align: middle;\n",
       "    }\n",
       "\n",
       "    .dataframe tbody tr th {\n",
       "        vertical-align: top;\n",
       "    }\n",
       "\n",
       "    .dataframe thead th {\n",
       "        text-align: right;\n",
       "    }\n",
       "</style>\n",
       "<table border=\"1\" class=\"dataframe\">\n",
       "  <thead>\n",
       "    <tr style=\"text-align: right;\">\n",
       "      <th></th>\n",
       "      <th>level</th>\n",
       "      <th>code</th>\n",
       "      <th>title</th>\n",
       "      <th>type</th>\n",
       "      <th>text_description</th>\n",
       "      <th>unit_code</th>\n",
       "      <th>minor_code</th>\n",
       "      <th>major_code</th>\n",
       "      <th>group_code</th>\n",
       "    </tr>\n",
       "  </thead>\n",
       "  <tbody>\n",
       "    <tr>\n",
       "      <th>7814</th>\n",
       "      <td>4</td>\n",
       "      <td>2121</td>\n",
       "      <td>Biologists and related scientists</td>\n",
       "      <td>All examples</td>\n",
       "      <td>poultry scientist</td>\n",
       "      <td>2121</td>\n",
       "      <td>212</td>\n",
       "      <td>21</td>\n",
       "      <td>2</td>\n",
       "    </tr>\n",
       "    <tr>\n",
       "      <th>8595</th>\n",
       "      <td>4</td>\n",
       "      <td>2146</td>\n",
       "      <td>Aerospace engineers</td>\n",
       "      <td>Main duties</td>\n",
       "      <td>Design and develop aerospace vehicles, systems...</td>\n",
       "      <td>2146</td>\n",
       "      <td>214</td>\n",
       "      <td>21</td>\n",
       "      <td>2</td>\n",
       "    </tr>\n",
       "    <tr>\n",
       "      <th>16491</th>\n",
       "      <td>4</td>\n",
       "      <td>4211</td>\n",
       "      <td>Paralegal and related occupations</td>\n",
       "      <td>All examples</td>\n",
       "      <td>paralegal</td>\n",
       "      <td>4211</td>\n",
       "      <td>421</td>\n",
       "      <td>42</td>\n",
       "      <td>4</td>\n",
       "    </tr>\n",
       "    <tr>\n",
       "      <th>3415</th>\n",
       "      <td>4</td>\n",
       "      <td>821</td>\n",
       "      <td>Managers in agriculture</td>\n",
       "      <td>Illustrative example(s)</td>\n",
       "      <td>vineyard manager</td>\n",
       "      <td>0821</td>\n",
       "      <td>082</td>\n",
       "      <td>08</td>\n",
       "      <td>0</td>\n",
       "    </tr>\n",
       "    <tr>\n",
       "      <th>20386</th>\n",
       "      <td>4</td>\n",
       "      <td>6222</td>\n",
       "      <td>Retail and wholesale buyers</td>\n",
       "      <td>Additional information</td>\n",
       "      <td>Progression to management positions in retail ...</td>\n",
       "      <td>6222</td>\n",
       "      <td>622</td>\n",
       "      <td>62</td>\n",
       "      <td>6</td>\n",
       "    </tr>\n",
       "  </tbody>\n",
       "</table>\n",
       "</div>"
      ]
     },
     "metadata": {},
     "execution_count": 50
    }
   ],
   "metadata": {}
  },
  {
   "cell_type": "code",
   "execution_count": 51,
   "source": [
    "information_type = noc_elements[\"type\"].drop_duplicates().to_list()"
   ],
   "outputs": [],
   "metadata": {}
  },
  {
   "cell_type": "code",
   "execution_count": 52,
   "source": [
    "type_to_table = {t:\"\" for t in noc_elements.type.drop_duplicates().to_list()}"
   ],
   "outputs": [],
   "metadata": {}
  },
  {
   "cell_type": "code",
   "execution_count": 53,
   "source": [
    "type_to_table[\"Illustrative example(s)\"] = \"noc_unit_example\"\n",
    "type_to_table[\"All examples\"] = \"noc_unit_example\"\n",
    "type_to_table[\"Exclusion(s)\"] = \"noc_unit_exclusion\"\n",
    "type_to_table[\"Main duties\"] = \"noc_unit_main_duties\"\n",
    "type_to_table[\"Employment requirements\"] = \"noc_unit_employment_requirements\"\n",
    "type_to_table[\"Inclusion(s)\"] = \"noc_unit_inclusion\"\n",
    "type_to_table[\"Additional information\"] = \"noc_unit_aditional_information\"\n"
   ],
   "outputs": [],
   "metadata": {}
  },
  {
   "cell_type": "code",
   "execution_count": 54,
   "source": [
    "type_to_table"
   ],
   "outputs": [
    {
     "output_type": "execute_result",
     "data": {
      "text/plain": [
       "{'Illustrative example(s)': 'noc_unit_example',\n",
       " 'All examples': 'noc_unit_example',\n",
       " 'Exclusion(s)': 'noc_unit_exclusion',\n",
       " 'Main duties': 'noc_unit_main_duties',\n",
       " 'Employment requirements': 'noc_unit_employment_requirements',\n",
       " 'Inclusion(s)': 'noc_unit_inclusion',\n",
       " 'Additional information': 'noc_unit_aditional_information'}"
      ]
     },
     "metadata": {},
     "execution_count": 54
    }
   ],
   "metadata": {}
  },
  {
   "cell_type": "markdown",
   "source": [
    "### Step 3: Database Stagging/Ingest"
   ],
   "metadata": {}
  },
  {
   "cell_type": "code",
   "execution_count": 55,
   "source": [
    "USER = \"postgres\"\n",
    "PASS = \"pass\"\n",
    "HOST = \"192.168.1.5\"\n",
    "PORT = \"5432\"\n",
    "SCHEMA = \"noc_search_engine\"\n",
    "\n",
    "db_connection_str = \"postgresql+psycopg2://{}:{}@{}:{}/{}\".format(USER,PASS,HOST,PORT,SCHEMA)"
   ],
   "outputs": [],
   "metadata": {}
  },
  {
   "cell_type": "code",
   "execution_count": 56,
   "source": [
    "db_connection = create_engine(db_connection_str)"
   ],
   "outputs": [],
   "metadata": {}
  },
  {
   "cell_type": "code",
   "execution_count": 57,
   "source": [
    "sql_query = \"SELECT * FROM information_schema.tables WHERE table_schema = 'public'\""
   ],
   "outputs": [],
   "metadata": {}
  },
  {
   "cell_type": "code",
   "execution_count": 58,
   "source": [
    "db_schema = pd.read_sql(sql_query,con=db_connection)\n",
    "db_schema"
   ],
   "outputs": [
    {
     "output_type": "execute_result",
     "data": {
      "text/plain": [
       "       table_catalog table_schema                        table_name  \\\n",
       "0  noc_search_engine       public                         noc_group   \n",
       "1  noc_search_engine       public                         noc_major   \n",
       "2  noc_search_engine       public                         noc_minor   \n",
       "3  noc_search_engine       public                          noc_unit   \n",
       "4  noc_search_engine       public                  noc_unit_example   \n",
       "5  noc_search_engine       public                noc_unit_inclusion   \n",
       "6  noc_search_engine       public                noc_unit_exclusion   \n",
       "7  noc_search_engine       public              noc_unit_main_duties   \n",
       "8  noc_search_engine       public  noc_unit_employment_requirements   \n",
       "9  noc_search_engine       public    noc_unit_aditional_information   \n",
       "\n",
       "   table_type self_referencing_column_name reference_generation  \\\n",
       "0  BASE TABLE                         None                 None   \n",
       "1  BASE TABLE                         None                 None   \n",
       "2  BASE TABLE                         None                 None   \n",
       "3  BASE TABLE                         None                 None   \n",
       "4  BASE TABLE                         None                 None   \n",
       "5  BASE TABLE                         None                 None   \n",
       "6  BASE TABLE                         None                 None   \n",
       "7  BASE TABLE                         None                 None   \n",
       "8  BASE TABLE                         None                 None   \n",
       "9  BASE TABLE                         None                 None   \n",
       "\n",
       "  user_defined_type_catalog user_defined_type_schema user_defined_type_name  \\\n",
       "0                      None                     None                   None   \n",
       "1                      None                     None                   None   \n",
       "2                      None                     None                   None   \n",
       "3                      None                     None                   None   \n",
       "4                      None                     None                   None   \n",
       "5                      None                     None                   None   \n",
       "6                      None                     None                   None   \n",
       "7                      None                     None                   None   \n",
       "8                      None                     None                   None   \n",
       "9                      None                     None                   None   \n",
       "\n",
       "  is_insertable_into is_typed commit_action  \n",
       "0                YES       NO          None  \n",
       "1                YES       NO          None  \n",
       "2                YES       NO          None  \n",
       "3                YES       NO          None  \n",
       "4                YES       NO          None  \n",
       "5                YES       NO          None  \n",
       "6                YES       NO          None  \n",
       "7                YES       NO          None  \n",
       "8                YES       NO          None  \n",
       "9                YES       NO          None  "
      ],
      "text/html": [
       "<div>\n",
       "<style scoped>\n",
       "    .dataframe tbody tr th:only-of-type {\n",
       "        vertical-align: middle;\n",
       "    }\n",
       "\n",
       "    .dataframe tbody tr th {\n",
       "        vertical-align: top;\n",
       "    }\n",
       "\n",
       "    .dataframe thead th {\n",
       "        text-align: right;\n",
       "    }\n",
       "</style>\n",
       "<table border=\"1\" class=\"dataframe\">\n",
       "  <thead>\n",
       "    <tr style=\"text-align: right;\">\n",
       "      <th></th>\n",
       "      <th>table_catalog</th>\n",
       "      <th>table_schema</th>\n",
       "      <th>table_name</th>\n",
       "      <th>table_type</th>\n",
       "      <th>self_referencing_column_name</th>\n",
       "      <th>reference_generation</th>\n",
       "      <th>user_defined_type_catalog</th>\n",
       "      <th>user_defined_type_schema</th>\n",
       "      <th>user_defined_type_name</th>\n",
       "      <th>is_insertable_into</th>\n",
       "      <th>is_typed</th>\n",
       "      <th>commit_action</th>\n",
       "    </tr>\n",
       "  </thead>\n",
       "  <tbody>\n",
       "    <tr>\n",
       "      <th>0</th>\n",
       "      <td>noc_search_engine</td>\n",
       "      <td>public</td>\n",
       "      <td>noc_group</td>\n",
       "      <td>BASE TABLE</td>\n",
       "      <td>None</td>\n",
       "      <td>None</td>\n",
       "      <td>None</td>\n",
       "      <td>None</td>\n",
       "      <td>None</td>\n",
       "      <td>YES</td>\n",
       "      <td>NO</td>\n",
       "      <td>None</td>\n",
       "    </tr>\n",
       "    <tr>\n",
       "      <th>1</th>\n",
       "      <td>noc_search_engine</td>\n",
       "      <td>public</td>\n",
       "      <td>noc_major</td>\n",
       "      <td>BASE TABLE</td>\n",
       "      <td>None</td>\n",
       "      <td>None</td>\n",
       "      <td>None</td>\n",
       "      <td>None</td>\n",
       "      <td>None</td>\n",
       "      <td>YES</td>\n",
       "      <td>NO</td>\n",
       "      <td>None</td>\n",
       "    </tr>\n",
       "    <tr>\n",
       "      <th>2</th>\n",
       "      <td>noc_search_engine</td>\n",
       "      <td>public</td>\n",
       "      <td>noc_minor</td>\n",
       "      <td>BASE TABLE</td>\n",
       "      <td>None</td>\n",
       "      <td>None</td>\n",
       "      <td>None</td>\n",
       "      <td>None</td>\n",
       "      <td>None</td>\n",
       "      <td>YES</td>\n",
       "      <td>NO</td>\n",
       "      <td>None</td>\n",
       "    </tr>\n",
       "    <tr>\n",
       "      <th>3</th>\n",
       "      <td>noc_search_engine</td>\n",
       "      <td>public</td>\n",
       "      <td>noc_unit</td>\n",
       "      <td>BASE TABLE</td>\n",
       "      <td>None</td>\n",
       "      <td>None</td>\n",
       "      <td>None</td>\n",
       "      <td>None</td>\n",
       "      <td>None</td>\n",
       "      <td>YES</td>\n",
       "      <td>NO</td>\n",
       "      <td>None</td>\n",
       "    </tr>\n",
       "    <tr>\n",
       "      <th>4</th>\n",
       "      <td>noc_search_engine</td>\n",
       "      <td>public</td>\n",
       "      <td>noc_unit_example</td>\n",
       "      <td>BASE TABLE</td>\n",
       "      <td>None</td>\n",
       "      <td>None</td>\n",
       "      <td>None</td>\n",
       "      <td>None</td>\n",
       "      <td>None</td>\n",
       "      <td>YES</td>\n",
       "      <td>NO</td>\n",
       "      <td>None</td>\n",
       "    </tr>\n",
       "    <tr>\n",
       "      <th>5</th>\n",
       "      <td>noc_search_engine</td>\n",
       "      <td>public</td>\n",
       "      <td>noc_unit_inclusion</td>\n",
       "      <td>BASE TABLE</td>\n",
       "      <td>None</td>\n",
       "      <td>None</td>\n",
       "      <td>None</td>\n",
       "      <td>None</td>\n",
       "      <td>None</td>\n",
       "      <td>YES</td>\n",
       "      <td>NO</td>\n",
       "      <td>None</td>\n",
       "    </tr>\n",
       "    <tr>\n",
       "      <th>6</th>\n",
       "      <td>noc_search_engine</td>\n",
       "      <td>public</td>\n",
       "      <td>noc_unit_exclusion</td>\n",
       "      <td>BASE TABLE</td>\n",
       "      <td>None</td>\n",
       "      <td>None</td>\n",
       "      <td>None</td>\n",
       "      <td>None</td>\n",
       "      <td>None</td>\n",
       "      <td>YES</td>\n",
       "      <td>NO</td>\n",
       "      <td>None</td>\n",
       "    </tr>\n",
       "    <tr>\n",
       "      <th>7</th>\n",
       "      <td>noc_search_engine</td>\n",
       "      <td>public</td>\n",
       "      <td>noc_unit_main_duties</td>\n",
       "      <td>BASE TABLE</td>\n",
       "      <td>None</td>\n",
       "      <td>None</td>\n",
       "      <td>None</td>\n",
       "      <td>None</td>\n",
       "      <td>None</td>\n",
       "      <td>YES</td>\n",
       "      <td>NO</td>\n",
       "      <td>None</td>\n",
       "    </tr>\n",
       "    <tr>\n",
       "      <th>8</th>\n",
       "      <td>noc_search_engine</td>\n",
       "      <td>public</td>\n",
       "      <td>noc_unit_employment_requirements</td>\n",
       "      <td>BASE TABLE</td>\n",
       "      <td>None</td>\n",
       "      <td>None</td>\n",
       "      <td>None</td>\n",
       "      <td>None</td>\n",
       "      <td>None</td>\n",
       "      <td>YES</td>\n",
       "      <td>NO</td>\n",
       "      <td>None</td>\n",
       "    </tr>\n",
       "    <tr>\n",
       "      <th>9</th>\n",
       "      <td>noc_search_engine</td>\n",
       "      <td>public</td>\n",
       "      <td>noc_unit_aditional_information</td>\n",
       "      <td>BASE TABLE</td>\n",
       "      <td>None</td>\n",
       "      <td>None</td>\n",
       "      <td>None</td>\n",
       "      <td>None</td>\n",
       "      <td>None</td>\n",
       "      <td>YES</td>\n",
       "      <td>NO</td>\n",
       "      <td>None</td>\n",
       "    </tr>\n",
       "  </tbody>\n",
       "</table>\n",
       "</div>"
      ]
     },
     "metadata": {},
     "execution_count": 58
    }
   ],
   "metadata": {}
  },
  {
   "cell_type": "code",
   "execution_count": null,
   "source": [
    "for table_name in db_schema.table_name:\n",
    "    db_connection.execute(sql_text(\"TRUNCATE TABLE {}\".format(table_name)).execution_options(autocommit=True))"
   ],
   "outputs": [],
   "metadata": {}
  },
  {
   "cell_type": "code",
   "execution_count": 59,
   "source": [
    "#@event.listens_for(db_connection, \"before_cursor_execute\")\n",
    "#def receive_before_cursor_execute(conn, cursor, statement, params, context, executemany):\n",
    "#    if executemany:\n",
    "#        cursor.fast_executemany = True\n",
    "\n",
    "tierOne.to_sql(\"noc_group\", con=db_connection, index=False, if_exists=\"append\", schema=\"public\")\n",
    "tierTwo.to_sql(\"noc_major\", con=db_connection, index=False, if_exists=\"append\", schema=\"public\")\n",
    "tierThree.to_sql(\"noc_minor\", con=db_connection, index=False, if_exists=\"append\", schema=\"public\")\n",
    "tierFour.to_sql(\"noc_unit\", con=db_connection, index=False, if_exists=\"append\", schema=\"public\")"
   ],
   "outputs": [],
   "metadata": {}
  },
  {
   "cell_type": "code",
   "execution_count": 60,
   "source": [
    "for i in type_to_table:\n",
    "    table = type_to_table.get(i)\n",
    "    df = noc_elements[noc_elements.type == i][[\"unit_code\",\"text_description\"]].copy()\n",
    "    df.to_sql(table, con=db_connection, index=False, if_exists=\"append\", schema=\"public\")"
   ],
   "outputs": [],
   "metadata": {}
  },
  {
   "cell_type": "code",
   "execution_count": null,
   "source": [],
   "outputs": [],
   "metadata": {}
  }
 ]
}